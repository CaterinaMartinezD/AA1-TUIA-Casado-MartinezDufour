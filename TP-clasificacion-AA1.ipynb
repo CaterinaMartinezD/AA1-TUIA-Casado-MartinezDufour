{
 "cells": [
  {
   "cell_type": "markdown",
   "id": "9b66e928",
   "metadata": {},
   "source": [
    "### **TRABAJO PRÁCTICO N° 2: Modelo predictivo de lluvia en Australia**\n",
    "---\n",
    " 2do cuatrimestre - Año 2025\n",
    "\n",
    "| **Integrantes**           | **Legajo** |\n",
    "|---------------------------|------------|\n",
    "| Casado, Gustavo.          | C-7296/6   |\n",
    "| Martinez Dufour, Caterina | M-7169/2   |\n",
    "\n",
    "**Docentes:** *Joel Spak* - *Agustín Almada* - *Bruno Cocitto López*\n",
    "\n",
    "**Fecha límite de entrega item 1, 2, 3:** 21/10\n",
    "\n",
    "**Fecha límite de entrega item 4, 5, 6, 7:** 07/11\n",
    "\n",
    "**Fecha límite de entrega item 8, 9, 10, 11:** 29/11"
   ]
  },
  {
   "cell_type": "markdown",
   "id": "8cc9974b",
   "metadata": {},
   "source": [
    "### Descripción del dataset\n",
    "---\n",
    "En este trabajo, nuestro objetivo es **predecir futuros dias donde llovera en Australia**.  El dataset se llama weatherAUS.csv y contiene información climática de Australia de los últimos diez años, incluyendo si para el día siguiente llovió o no en la columna ‘RainTomorrow’. El objetivo del trabajo práctico es armar un ejecutable de Docker para predecir, a las 23:59:59hs de cada día, si el día siguiente va a llover o no.\n",
    "\n",
    "\n",
    "#### Variables del conjunto de datos  \n",
    "\n",
    "**Variables explicativas:**  \n",
    "- **Date**: Fecha en la que se registraron los datos.\n",
    "- **Location**: Nombre de la zona donde se obtuvo la observación.\n",
    "- **MinTemp**: Temperatura mínima en grados (°C).\n",
    "- **MaxTemp**: Temperatura máxima en grados (°C).\n",
    "- **Rainfall**: Precipitación en milímetros (mm).\n",
    "- **Evaporation**: Cantidad de agua evaporada en milímetros (mm).\n",
    "- **Sunshine**: \n",
    "- **WindGustDir**:  Dirección del viento.\n",
    "- **WindGustSpeed**: Velocidad del viento (km/h).\n",
    "- **WindDir9am**: Dirección del viento a las 9am\n",
    "- **WindDir3pm**: Dirección del viento a las 3pm\n",
    "- **WindSpeed9am**: Velocidad del viento a las 9am (km/h).\n",
    "- **WindSpeed3pm**: Velocidad del viento a las 3pm (km/h).\n",
    "- **Humidity9am**: Humedad relativa a las 9am (%).\n",
    "- **Humidity3pm**:  Humedad relativa a las 3pm (%).\n",
    "- **Pressure9am**: Presión atmosférica a las 9am (hPa).\n",
    "- **Pressure3pm**: Presión atmosférica a las 3pm (hPa).\n",
    "- **Cloud9am**: Cantidad de cielo cubierto con nubes a las 9am (octas).\n",
    "- **Cloud3pm**: Cantidad de cielo cubierto con nubes a las 3pm (octas).\n",
    "- **Temp9am**: Temperatura a las 9am (°C).\n",
    "- **Temp3pm**: Temperatura a las 3pm (°C).\n",
    "- **RainToday**:  Indicador si llovió ese dia (Yes/No)\n",
    "\n",
    "**Variable objetivo (target):**  \n",
    "- **RainTomorrow**: Indica si llovió al día siguiente (Yes/No)"
   ]
  },
  {
   "cell_type": "code",
   "execution_count": null,
   "id": "79188e88",
   "metadata": {},
   "outputs": [],
   "source": [
    "# Librerías\n",
    "import pandas as pd\n",
    "import numpy as np\n",
    "\n",
    "import seaborn as sns\n",
    "import matplotlib.pyplot as plt\n",
    "\n",
    "import plotly.express as px\n",
    "import plotly.graph_objects as go\n",
    "import plotly.figure_factory as ff\n",
    "\n",
    "from sklearn.preprocessing import OneHotEncoder\n",
    "from sklearn.impute import SimpleImputer\n",
    "from sklearn.model_selection import train_test_split\n",
    "from sklearn.preprocessing import StandardScaler, MinMaxScaler, RobustScaler, MaxAbsScaler, PowerTransformer, QuantileTransformer\n",
    "from sklearn.linear_model import LinearRegression, Lasso, Ridge, ElasticNet, LassoCV, RidgeCV, ElasticNetCV\n",
    "from sklearn.metrics import root_mean_squared_error, r2_score, mean_absolute_error\n",
    "from sklearn.impute import KNNImputer\n",
    "from sklearn.cluster import KMeans"
   ]
  },
  {
   "cell_type": "markdown",
   "id": "69fc3ed5",
   "metadata": {},
   "source": [
    "### Carga del dataset\n",
    "---"
   ]
  },
  {
   "cell_type": "markdown",
   "id": "453c47af",
   "metadata": {},
   "source": [
    "Se utilizó la biblioteca pandas para leer los datos almacenados en el archivo CSV y convertirlos en un DataFrame. Para corroborar que los datos se hayan cargado correctamente, se visualizaron las primeras cinco filas mediante el método '.head()'. Además, se empleó el método '.info()' para obtener información general del dataset, verificar que el tipo de dato en cada variable es correcto, detectar la presencia de valores nulos y valores atípicos."
   ]
  },
  {
   "cell_type": "code",
   "execution_count": 2,
   "id": "099b6559",
   "metadata": {},
   "outputs": [],
   "source": [
    "# Carga del dataset\n",
    "file_path= 'weatherAUS.csv'\n",
    "df = pd.read_csv(file_path)"
   ]
  },
  {
   "cell_type": "markdown",
   "id": "63680688",
   "metadata": {},
   "source": [
    "### Transformación de clusters de ciudades a una nueva categoría \"Regiones\"\n",
    "---"
   ]
  },
  {
   "cell_type": "markdown",
   "id": "d853b43e",
   "metadata": {},
   "source": [
    "Se  solicita  en  primera  instancia  crear  clusters  con  las  ciudades del Dataset para \n",
    "catalogarlas en otra categoría: regiones. La cantidad de regiones será definida por \n",
    "cada  grupo,  observarlas  en  un  gráfico  de  latitud  y  longitud  para  acompañar  la \n",
    "decisión. (obtuve los datos de longitud y latitud en 'www.latlong.net')"
   ]
  },
  {
   "cell_type": "code",
   "execution_count": 3,
   "id": "6d26d2f9",
   "metadata": {},
   "outputs": [
    {
     "data": {
      "text/plain": [
       "49"
      ]
     },
     "execution_count": 3,
     "metadata": {},
     "output_type": "execute_result"
    }
   ],
   "source": [
    "len(df['Location'].unique())"
   ]
  },
  {
   "cell_type": "code",
   "execution_count": 4,
   "id": "b95b51d9",
   "metadata": {},
   "outputs": [
    {
     "data": {
      "text/plain": [
       "array(['Albury', 'BadgerysCreek', 'Cobar', 'CoffsHarbour', 'Moree',\n",
       "       'Newcastle', 'NorahHead', 'NorfolkIsland', 'Penrith', 'Richmond',\n",
       "       'Sydney', 'SydneyAirport', 'WaggaWagga', 'Williamtown',\n",
       "       'Wollongong', 'Canberra', 'Tuggeranong', 'MountGinini', 'Ballarat',\n",
       "       'Bendigo', 'Sale', 'MelbourneAirport', 'Melbourne', 'Mildura',\n",
       "       'Nhil', 'Portland', 'Watsonia', 'Dartmoor', 'Brisbane', 'Cairns',\n",
       "       'GoldCoast', 'Townsville', 'Adelaide', 'MountGambier', 'Nuriootpa',\n",
       "       'Woomera', 'Albany', 'Witchcliffe', 'PearceRAAF', 'PerthAirport',\n",
       "       'Perth', 'SalmonGums', 'Walpole', 'Hobart', 'Launceston',\n",
       "       'AliceSprings', 'Darwin', 'Katherine', 'Uluru'], dtype=object)"
      ]
     },
     "execution_count": 4,
     "metadata": {},
     "output_type": "execute_result"
    }
   ],
   "source": [
    "df['Location'].unique()"
   ]
  },
  {
   "cell_type": "code",
   "execution_count": 5,
   "id": "f0e76ca3",
   "metadata": {},
   "outputs": [],
   "source": [
    "renombrar = { \n",
    "    \"BadgerysCreek\": \"Badgerys Creek\", \"CoffsHarbour\": \"Coffs Harbour\", \"NorahHead\" : \"Norah Head\", \"NorfolkIsland\" : \"Norfolk Island\", \"SydneyAirport\": \"Sydney Airport\",\n",
    "    \"WaggaWagga\" : \"Wagga Wagga\", \"MountGinini\": \"Mount Ginini\", \"MelbourneAirport\" : \"Melbourne Airport\", \"Nhil\" : \"Nhill\", \"GoldCoast\" : \"Gold Coast\", \n",
    "    \"MountGambier\" : \"Mount Gambier\", \"PerthAirport\" : \"Perth Airport\", \"SalmonGums\" : \"Salmon Gums\", \"AliceSprings\" : \"Alice Springs\", \"PearceRAAF\" : \"RAFF Base Pearce\"\n",
    "}\n",
    "\n",
    "# Renombra los nombres del dataset\n",
    "df[\"Location\"] = df[\"Location\"].replace(renombrar)"
   ]
  },
  {
   "cell_type": "code",
   "execution_count": 6,
   "id": "f3c46e65",
   "metadata": {},
   "outputs": [],
   "source": [
    "coordenadas = {\n",
    "    \"Albury\": (-36.073730, 146.913544), \"Badgerys Creek\": (-33.887421, 150.740509), \"Cobar\": (-31.494930, 145.840164), \"Coffs Harbour\": (-30.298613, 153.109390),\n",
    "    \"Moree\": (-29.463551, 149.841721), \"Newcastle\": (-32.926670, 151.780014), \"Norah Head\": (-33.283340, 151.566116), \"Norfolk Island\": (-29.040834, 167.954712),\n",
    "    \"Penrith\": (-33.752918, 150.690674), \"Richmond\": (-42.735809, 147.437088), \"Sydney\": (-33.868820, 151.209290), \"Sydney Airport\": (-33.939922, 151.175278),\n",
    "    \"Wagga Wagga\": (-35.114750, 147.369614), \"Williamtown\": (-32.814999, 151.842773), \"Wollongong\": (-34.427811, 150.893066), \"Canberra\": (-35.280937, 149.130005),\n",
    "    \"Tuggeranong\": (-35.424400, 149.088806), \"Mount Ginini\": (-37.828410, 140.780656), \"Ballarat\": (-37.562160, 143.850250), \"Bendigo\": (-36.759338, 144.283997),\n",
    "    \"Sale\": (-38.107250, 147.067291), \"Melbourne Airport\": (-37.670528, 144.848938), \"Melbourne\": (-37.813629, 144.963058), \"Mildura\": (-34.210468, 142.142044),\n",
    "    \"Nhill\": (-36.332472, 141.649494), \"Portland\": (-38.342281, 141.603958), \"Watsonia\": (-37.711699, 145.082002), \"Dartmoor\": (-37.919090, 141.274673),\n",
    "    \"Brisbane\": (-27.470030, 153.022980), \"Cairns\": (-16.918550, 145.778061), \"Gold Coast\": (-28.001499, 153.428467), \"Townsville\": (-19.258965, 146.816956),\n",
    "    \"Adelaide\": (-34.927170, 138.599533), \"Mount Gambier\": (-37.828411, 140.780655), \"Nuriootpa\": (-34.471859, 138.996216), \"Woomera\": (-31.200684, 136.825919),\n",
    "    \"Albany\": (-35.023819, 117.884727), \"Witchcliffe\": (-34.025699, 115.100107), \"RAFF Base Pearce\": (-17.591089, 123.777382), \"Perth Airport\": (-31.932739, 115.960258),\n",
    "    \"Perth\": (-31.950527, 115.860458), \"Salmon Gums\": (-32.982075, 121.644170), \"Walpole\": (-34.976129, 116.731910), \"Hobart\": (-42.881901, 147.323807),\n",
    "    \"Launceston\": (-41.437019, 147.139389), \"Alice Springs\": (-23.700680, 133.880707), \"Darwin\": (-12.463440, 130.845642), \"Katherine\": (-14.464970, 132.264267),\n",
    "    \"Uluru\": (-25.344427, 131.036880)\n",
    "}"
   ]
  },
  {
   "cell_type": "code",
   "execution_count": 7,
   "id": "8528f164",
   "metadata": {},
   "outputs": [],
   "source": [
    "df['Latitud'] = df['Location'].map(lambda x: coordenadas.get(x, (None, None))[0])\n",
    "df['Longitud'] = df['Location'].map(lambda x: coordenadas.get(x, (None, None))[1])"
   ]
  },
  {
   "cell_type": "code",
   "execution_count": 8,
   "id": "8027d33a",
   "metadata": {},
   "outputs": [
    {
     "data": {
      "image/png": "[encoded data removed]",
      "text/plain": [
       "<Figure size 1200x500 with 1 Axes>"
      ]
     },
     "metadata": {},
     "output_type": "display_data"
    }
   ],
   "source": [
    "plt.figure(figsize=(12,5))\n",
    "sns.scatterplot(x='Longitud', y='Latitud', data=df, hue='Location', palette='tab20')\n",
    "plt.title('Mapa de localizaciones')\n",
    "plt.legend(title=\"Localización\", bbox_to_anchor=(1.05, 1), loc='upper left', fontsize=8)\n",
    "plt.show()"
   ]
  },
  {
   "cell_type": "markdown",
   "id": "28695a8b",
   "metadata": {},
   "source": [
    "Para determinar el número óptimo de regiones en las que se agrupan las zonas donde se tomaron datos sobre la lluvia, se empleó el método del Codo. Este método utiliza k-means para un rango de valores de k y calcula la inercia para cada iteración. Para saber que valor seleccionar, observamos el gráfico del codo"
   ]
  },
  {
   "cell_type": "code",
   "execution_count": 9,
   "id": "f58c7272",
   "metadata": {},
   "outputs": [],
   "source": [
    "X = df[['Latitud', 'Longitud']].values\n",
    "scaler = StandardScaler()\n",
    "X_scaled = scaler.fit_transform(X)"
   ]
  },
  {
   "cell_type": "code",
   "execution_count": 10,
   "id": "abe5354f",
   "metadata": {},
   "outputs": [
    {
     "data": {
      "image/png": "[encoded data removed]",
      "text/plain": [
       "<Figure size 1500x400 with 1 Axes>"
      ]
     },
     "metadata": {},
     "output_type": "display_data"
    }
   ],
   "source": [
    "inertias = []\n",
    "max_k = 15\n",
    "\n",
    "# Calculamos la inercia para cada k\n",
    "for k in range(1, max_k + 1):\n",
    "    kmeans = KMeans(n_clusters=k, random_state=42, n_init=10)\n",
    "    kmeans.fit(X_scaled)\n",
    "    inertias.append(kmeans.inertia_)\n",
    "\n",
    "\n",
    "plt.figure(figsize=(15,4))\n",
    "plt.plot(range(1, max_k + 1), inertias, marker='o', linestyle='--')\n",
    "plt.xlabel('Número de Clusters (k)')\n",
    "plt.ylabel('Inercia')\n",
    "plt.title('Método del Codo para Encontrar k Óptimo')\n",
    "plt.grid(True)\n",
    "plt.xticks(range(1, max_k + 1))\n",
    "plt.show()"
   ]
  },
  {
   "cell_type": "markdown",
   "id": "c4111fe7",
   "metadata": {},
   "source": [
    "Este método muestra que hay un quiebre en k = 4 debido a que se ve una caída fuerte hasta este valor y luego el descenso es mucho más leve. Es por esta razón que podemos concluir que el valor optimo para dividir las localizaciones será en 4 regiones (norte, sur, este y oeste)."
   ]
  },
  {
   "cell_type": "code",
   "execution_count": 11,
   "id": "803b28de",
   "metadata": {},
   "outputs": [],
   "source": [
    "kmeans = KMeans(n_clusters = 4, random_state=42, n_init = 10)\n",
    "df['Regiones'] = kmeans.fit_predict(X_scaled)"
   ]
  },
  {
   "cell_type": "code",
   "execution_count": 12,
   "id": "dd44fb56",
   "metadata": {},
   "outputs": [
    {
     "data": {
      "text/html": [
       "<div>\n",
       "<style scoped>\n",
       "    .dataframe tbody tr th:only-of-type {\n",
       "        vertical-align: middle;\n",
       "    }\n",
       "\n",
       "    .dataframe tbody tr th {\n",
       "        vertical-align: top;\n",
       "    }\n",
       "\n",
       "    .dataframe thead th {\n",
       "        text-align: right;\n",
       "    }\n",
       "</style>\n",
       "<table border=\"1\" class=\"dataframe\">\n",
       "  <thead>\n",
       "    <tr style=\"text-align: right;\">\n",
       "      <th></th>\n",
       "      <th>Date</th>\n",
       "      <th>Location</th>\n",
       "      <th>MinTemp</th>\n",
       "      <th>MaxTemp</th>\n",
       "      <th>Rainfall</th>\n",
       "      <th>Evaporation</th>\n",
       "      <th>Sunshine</th>\n",
       "      <th>WindGustDir</th>\n",
       "      <th>WindGustSpeed</th>\n",
       "      <th>WindDir9am</th>\n",
       "      <th>...</th>\n",
       "      <th>Pressure3pm</th>\n",
       "      <th>Cloud9am</th>\n",
       "      <th>Cloud3pm</th>\n",
       "      <th>Temp9am</th>\n",
       "      <th>Temp3pm</th>\n",
       "      <th>RainToday</th>\n",
       "      <th>RainTomorrow</th>\n",
       "      <th>Latitud</th>\n",
       "      <th>Longitud</th>\n",
       "      <th>Regiones</th>\n",
       "    </tr>\n",
       "  </thead>\n",
       "  <tbody>\n",
       "    <tr>\n",
       "      <th>0</th>\n",
       "      <td>2008-12-01</td>\n",
       "      <td>Albury</td>\n",
       "      <td>13.4</td>\n",
       "      <td>22.9</td>\n",
       "      <td>0.6</td>\n",
       "      <td>NaN</td>\n",
       "      <td>NaN</td>\n",
       "      <td>W</td>\n",
       "      <td>44.0</td>\n",
       "      <td>W</td>\n",
       "      <td>...</td>\n",
       "      <td>1007.1</td>\n",
       "      <td>8.0</td>\n",
       "      <td>NaN</td>\n",
       "      <td>16.9</td>\n",
       "      <td>21.8</td>\n",
       "      <td>No</td>\n",
       "      <td>No</td>\n",
       "      <td>-36.07373</td>\n",
       "      <td>146.913544</td>\n",
       "      <td>Sur</td>\n",
       "    </tr>\n",
       "    <tr>\n",
       "      <th>1</th>\n",
       "      <td>2008-12-02</td>\n",
       "      <td>Albury</td>\n",
       "      <td>7.4</td>\n",
       "      <td>25.1</td>\n",
       "      <td>0.0</td>\n",
       "      <td>NaN</td>\n",
       "      <td>NaN</td>\n",
       "      <td>WNW</td>\n",
       "      <td>44.0</td>\n",
       "      <td>NNW</td>\n",
       "      <td>...</td>\n",
       "      <td>1007.8</td>\n",
       "      <td>NaN</td>\n",
       "      <td>NaN</td>\n",
       "      <td>17.2</td>\n",
       "      <td>24.3</td>\n",
       "      <td>No</td>\n",
       "      <td>No</td>\n",
       "      <td>-36.07373</td>\n",
       "      <td>146.913544</td>\n",
       "      <td>Sur</td>\n",
       "    </tr>\n",
       "    <tr>\n",
       "      <th>2</th>\n",
       "      <td>2008-12-03</td>\n",
       "      <td>Albury</td>\n",
       "      <td>12.9</td>\n",
       "      <td>25.7</td>\n",
       "      <td>0.0</td>\n",
       "      <td>NaN</td>\n",
       "      <td>NaN</td>\n",
       "      <td>WSW</td>\n",
       "      <td>46.0</td>\n",
       "      <td>W</td>\n",
       "      <td>...</td>\n",
       "      <td>1008.7</td>\n",
       "      <td>NaN</td>\n",
       "      <td>2.0</td>\n",
       "      <td>21.0</td>\n",
       "      <td>23.2</td>\n",
       "      <td>No</td>\n",
       "      <td>No</td>\n",
       "      <td>-36.07373</td>\n",
       "      <td>146.913544</td>\n",
       "      <td>Sur</td>\n",
       "    </tr>\n",
       "    <tr>\n",
       "      <th>3</th>\n",
       "      <td>2008-12-04</td>\n",
       "      <td>Albury</td>\n",
       "      <td>9.2</td>\n",
       "      <td>28.0</td>\n",
       "      <td>0.0</td>\n",
       "      <td>NaN</td>\n",
       "      <td>NaN</td>\n",
       "      <td>NE</td>\n",
       "      <td>24.0</td>\n",
       "      <td>SE</td>\n",
       "      <td>...</td>\n",
       "      <td>1012.8</td>\n",
       "      <td>NaN</td>\n",
       "      <td>NaN</td>\n",
       "      <td>18.1</td>\n",
       "      <td>26.5</td>\n",
       "      <td>No</td>\n",
       "      <td>No</td>\n",
       "      <td>-36.07373</td>\n",
       "      <td>146.913544</td>\n",
       "      <td>Sur</td>\n",
       "    </tr>\n",
       "    <tr>\n",
       "      <th>4</th>\n",
       "      <td>2008-12-05</td>\n",
       "      <td>Albury</td>\n",
       "      <td>17.5</td>\n",
       "      <td>32.3</td>\n",
       "      <td>1.0</td>\n",
       "      <td>NaN</td>\n",
       "      <td>NaN</td>\n",
       "      <td>W</td>\n",
       "      <td>41.0</td>\n",
       "      <td>ENE</td>\n",
       "      <td>...</td>\n",
       "      <td>1006.0</td>\n",
       "      <td>7.0</td>\n",
       "      <td>8.0</td>\n",
       "      <td>17.8</td>\n",
       "      <td>29.7</td>\n",
       "      <td>No</td>\n",
       "      <td>No</td>\n",
       "      <td>-36.07373</td>\n",
       "      <td>146.913544</td>\n",
       "      <td>Sur</td>\n",
       "    </tr>\n",
       "  </tbody>\n",
       "</table>\n",
       "<p>5 rows × 26 columns</p>\n",
       "</div>"
      ],
      "text/plain": [
       "         Date Location  MinTemp  MaxTemp  Rainfall  Evaporation  Sunshine  \\\n",
       "0  2008-12-01   Albury     13.4     22.9       0.6          NaN       NaN   \n",
       "1  2008-12-02   Albury      7.4     25.1       0.0          NaN       NaN   \n",
       "2  2008-12-03   Albury     12.9     25.7       0.0          NaN       NaN   \n",
       "3  2008-12-04   Albury      9.2     28.0       0.0          NaN       NaN   \n",
       "4  2008-12-05   Albury     17.5     32.3       1.0          NaN       NaN   \n",
       "\n",
       "  WindGustDir  WindGustSpeed WindDir9am  ... Pressure3pm  Cloud9am  Cloud3pm  \\\n",
       "0           W           44.0          W  ...      1007.1       8.0       NaN   \n",
       "1         WNW           44.0        NNW  ...      1007.8       NaN       NaN   \n",
       "2         WSW           46.0          W  ...      1008.7       NaN       2.0   \n",
       "3          NE           24.0         SE  ...      1012.8       NaN       NaN   \n",
       "4           W           41.0        ENE  ...      1006.0       7.0       8.0   \n",
       "\n",
       "   Temp9am  Temp3pm  RainToday  RainTomorrow   Latitud    Longitud  Regiones  \n",
       "0     16.9     21.8         No            No -36.07373  146.913544       Sur  \n",
       "1     17.2     24.3         No            No -36.07373  146.913544       Sur  \n",
       "2     21.0     23.2         No            No -36.07373  146.913544       Sur  \n",
       "3     18.1     26.5         No            No -36.07373  146.913544       Sur  \n",
       "4     17.8     29.7         No            No -36.07373  146.913544       Sur  \n",
       "\n",
       "[5 rows x 26 columns]"
      ]
     },
     "execution_count": 12,
     "metadata": {},
     "output_type": "execute_result"
    }
   ],
   "source": [
    "etiqueta = {0: 'Sur', 1: 'Norte', 2: 'Este', 3: 'Oeste'}\n",
    "df['Regiones'] = df['Regiones'].map(etiqueta)\n",
    "df.head()"
   ]
  },
  {
   "cell_type": "code",
   "execution_count": 13,
   "id": "d9e3ebd5",
   "metadata": {},
   "outputs": [
    {
     "data": {
      "image/png": "[encoded data removed]",
      "text/plain": [
       "<Figure size 1200x500 with 1 Axes>"
      ]
     },
     "metadata": {},
     "output_type": "display_data"
    }
   ],
   "source": [
    "plt.figure(figsize=(12,5))\n",
    "sns.scatterplot(x=\"Longitud\", y=\"Latitud\", hue=\"Regiones\", data=df, palette=\"tab10\")\n",
    "plt.xlabel('Longitud')\n",
    "plt.ylabel('Latitud')\n",
    "plt.title(f'Regiones')\n",
    "plt.legend(title=\"Regiones\")\n",
    "plt.show()"
   ]
  },
  {
   "cell_type": "markdown",
   "id": "40e62ad6",
   "metadata": {},
   "source": [
    "### Analisis descriptivo (consigna)\n",
    "---"
   ]
  },
  {
   "cell_type": "markdown",
   "id": "b0c4bcec",
   "metadata": {},
   "source": [
    "Realizar un análisis descriptivo, que ayude a la comprensión del problema, de cada una  de  las  variables  involucradas,  detallando:  características,  comportamiento  y \n",
    "rango de variación. ¿Qué es cada variable?. Debe incluir: \n",
    "\n",
    "●  Análisis y decisión sobre datos faltantes. \n",
    "\n",
    "●  Visualización de datos (por ejemplo histogramas, scatterplots entre variables, diagramas de caja) \n",
    "\n",
    "●  ¿Está balanceado el dataset? ¿Por qué cree que hacemos esta pregunta? \n",
    "\n",
    "●  Codificación de variables categóricas (si se van a utilizar para predicción). \n",
    "\n",
    "●  Matriz de correlación de variables. \n",
    "\n",
    "●  Estandarización/escalado de datos. \n",
    "\n",
    "●  Validación cruzada train - test. Realizar una división del conjunto de datos en  conjuntos  de  entrenamiento  y  prueba  (y  si  se  quiere,  se  puede  incluir  validación, que luego será útil) en el MOMENTO donde lo crean adecuado"
   ]
  },
  {
   "cell_type": "markdown",
   "id": "a1b2d619",
   "metadata": {},
   "source": [
    "### Transformación del dataset original\n",
    "---"
   ]
  },
  {
   "cell_type": "markdown",
   "id": "d71691b9",
   "metadata": {},
   "source": [
    "#### Análisis y decisión sobre datos faltantes"
   ]
  },
  {
   "cell_type": "code",
   "execution_count": null,
   "id": "2832649b",
   "metadata": {},
   "outputs": [],
   "source": [
    "df.isnull().sum()"
   ]
  },
  {
   "cell_type": "code",
   "execution_count": null,
   "id": "c2061196",
   "metadata": {},
   "outputs": [],
   "source": [
    "def calcular_porcentaje(faltante, total):\n",
    "    if total == 0:\n",
    "        return 0 # para evitar la division por cero\n",
    "    \n",
    "    porcentaje = (faltante / total) * 100\n",
    "    return porcentaje \n",
    "\n",
    "def imprimir_porcentaje(porcentaje, columna):\n",
    "    print(f\"{columna}: {porcentaje:.2f}%\")\n",
    "    return\n",
    "\n",
    "def datos_faltantes(columna):\n",
    "    faltante = df[columna].isnull().sum()\n",
    "    total = len(df)\n",
    "    porcentaje = calcular_porcentaje(faltante, total)\n",
    "    imprimir_porcentaje(porcentaje, columna)\n",
    "    return \n",
    "\n",
    "print(\"Porcentaje de los valores faltantes de todas las columnas:\")\n",
    "for columna in df.columns:\n",
    "    datos_faltantes(columna)"
   ]
  },
  {
   "cell_type": "markdown",
   "id": "9108f848",
   "metadata": {},
   "source": [
    "Podemos observar que las columnas que poseen un mayor valor de faltantes son los siguientes:\n",
    "- Evaporation: 43.17%\n",
    "- Sunshine: 48.01%\n",
    "- Cloud9am: 38.42%\n",
    "- Cloud3pm: 40.81%\n",
    "\n",
    "El resto de valores tiene un porcentaje menor al 10% aproximadamente por lo que estos datos veria correcto imputarlos de ser necesario con algun metodo luego de dividir el dataset. El resto de columnas que posee esa gran cantidad de datos faltantes (30-50%) diria de eliminarlos del dataset debido que al ser un valor tan elevado de faltantes imputar los datos serian bastante lo que afectaria en un futuro al predecir el modelo. Además eliminaremos los datos que se encuentren en la variable target debido que no seria educado imputar sobre este."
   ]
  },
  {
   "cell_type": "code",
   "execution_count": null,
   "id": "a305eee1",
   "metadata": {},
   "outputs": [],
   "source": [
    "columnas = ['Sunshine', 'Evaporation', 'Cloud3pm', 'Cloud9am']\n",
    "df = df.drop(columns=columnas)\n",
    "\n",
    "df.dropna(subset=['RainTomorrow'], inplace=True)"
   ]
  },
  {
   "cell_type": "markdown",
   "id": "6f11c51b",
   "metadata": {},
   "source": [
    "#### Transformación de datos y variables de interés"
   ]
  },
  {
   "cell_type": "code",
   "execution_count": null,
   "id": "21c77d9f",
   "metadata": {},
   "outputs": [],
   "source": [
    "df.info()"
   ]
  },
  {
   "cell_type": "markdown",
   "id": "796f3a87",
   "metadata": {},
   "source": [
    "Teniendo en cuenta las variables que poseemos, considero que al hacer la columna \"Regiones\" ya no es necesario mantener en el dataset \"Location\" debido que ya estamos representando estos datos por zonas. Por otro lado debemos transformar probablemente la columna \"Date\" para poder agregarlo al modelo (por ejemplo: dia de la semana, mes y año)."
   ]
  },
  {
   "cell_type": "code",
   "execution_count": null,
   "id": "05dc8726",
   "metadata": {},
   "outputs": [],
   "source": [
    "df['Date'] = pd.to_datetime(df['Date'])  "
   ]
  },
  {
   "cell_type": "code",
   "execution_count": null,
   "id": "4fd73a46",
   "metadata": {},
   "outputs": [],
   "source": [
    "df['day_of_week'] = df['Date'].dt.dayofweek\n",
    "def dia_semana(dia):\n",
    "    if dia == 0:\n",
    "        return 'Lunes'\n",
    "    elif dia == 1:\n",
    "        return 'Martes'\n",
    "    elif dia == 2:\n",
    "        return 'Miercoles'\n",
    "    elif dia == 3:\n",
    "        return 'Jueves'\n",
    "    elif dia == 4:\n",
    "        return 'Viernes'\n",
    "    elif dia == 5:\n",
    "        return 'Sabado'\n",
    "    else:\n",
    "        return 'Domingo'\n",
    "    \n",
    "df['day_of_week'] = df['day_of_week'].apply(dia_semana)"
   ]
  },
  {
   "cell_type": "code",
   "execution_count": null,
   "id": "fe1efdab",
   "metadata": {},
   "outputs": [],
   "source": [
    "df['week'] = df['Date'].dt.day_of_week\n",
    "def mes(d_mes):\n",
    "    if d_mes == 0:\n",
    "        return 'Enero'\n",
    "    elif d_mes == 1:\n",
    "        return 'Febrero'\n",
    "    elif d_mes == 2:\n",
    "        return 'Marzo'\n",
    "    elif d_mes == 3:\n",
    "        return 'Abril'\n",
    "    elif d_mes == 4:\n",
    "        return 'Mayo'\n",
    "    elif d_mes == 5:\n",
    "        return 'Junio'\n",
    "    elif d_mes == 6:\n",
    "        return 'Julio'\n",
    "    elif d_mes == 7:\n",
    "        return 'Agosto'\n",
    "    elif d_mes == 8:\n",
    "        return 'Septiembre'\n",
    "    elif d_mes == 9:\n",
    "        return 'Octubre'\n",
    "    elif d_mes == 10:\n",
    "        return 'Noviembre'\n",
    "    elif d_mes == 11:\n",
    "        return 'Diciembre'\n",
    "    \n",
    "df['week'] = df['week'].apply(mes)"
   ]
  },
  {
   "cell_type": "code",
   "execution_count": null,
   "id": "3cbe3e9f",
   "metadata": {},
   "outputs": [],
   "source": [
    "df['Year'] = df['Date'].dt.year"
   ]
  },
  {
   "cell_type": "code",
   "execution_count": null,
   "id": "ca2be591",
   "metadata": {},
   "outputs": [],
   "source": [
    "# Eliminación de columnas que no son de interes\n",
    "columnas = ['Date', 'Location']\n",
    "df = df.drop(columns=columnas)"
   ]
  },
  {
   "cell_type": "code",
   "execution_count": null,
   "id": "ee248057",
   "metadata": {},
   "outputs": [],
   "source": [
    "df.head()"
   ]
  },
  {
   "cell_type": "markdown",
   "id": "554c9175",
   "metadata": {},
   "source": [
    "### Validación cruzada train - test\n",
    "---"
   ]
  },
  {
   "cell_type": "markdown",
   "id": "afcbed5a",
   "metadata": {},
   "source": [
    "El siguiente paso consiste en dividir el dataset en conjuntos de entrenamiento y prueba. Se separó el 80% de los datos para entrenamiento y el 20% restante para prueba."
   ]
  },
  {
   "cell_type": "code",
   "execution_count": null,
   "id": "b4922fdb",
   "metadata": {},
   "outputs": [],
   "source": [
    "# dividir df en train y test\n",
    "train_df, test_df = train_test_split(df, test_size=0.2, random_state=42)"
   ]
  },
  {
   "cell_type": "code",
   "execution_count": null,
   "id": "42a745a4",
   "metadata": {},
   "outputs": [],
   "source": [
    "train_df.shape, test_df.shape"
   ]
  },
  {
   "cell_type": "markdown",
   "id": "b389c3d0",
   "metadata": {},
   "source": [
    "### Transformación del dataset\n",
    "---"
   ]
  },
  {
   "cell_type": "markdown",
   "id": "40cd6877",
   "metadata": {},
   "source": [
    "Luego de esto, realizamos un '.describe()' sobre las variables numericas y consideramos los resultados para analizar cada variable del dataset."
   ]
  },
  {
   "cell_type": "code",
   "execution_count": null,
   "id": "c421e25a",
   "metadata": {},
   "outputs": [],
   "source": [
    "train_df.describe()"
   ]
  },
  {
   "cell_type": "code",
   "execution_count": null,
   "id": "4f0e3133",
   "metadata": {},
   "outputs": [],
   "source": [
    "def imput_median(columna):\n",
    "    mediana= train_df[columna].median()\n",
    "    print(f\"Mediana de {columna}: {round(mediana,2)}\")\n",
    "    print(f\"Total de casos imputados con la mediana en train: { train_df[columna].isnull().sum()} \")\n",
    "    print(f\"Total de casos imputados con la mediana en test: {test_df[columna].isnull().sum()} \")\n",
    "    return"
   ]
  },
  {
   "cell_type": "code",
   "execution_count": null,
   "id": "afe2263a",
   "metadata": {},
   "outputs": [],
   "source": [
    "def imput_mode(columna):\n",
    "    moda = train_df[columna].mode()[0]\n",
    "    print(f\"Moda de {columna}: {moda}\")\n",
    "    print(f\"Total de casos imputados con la mediana en train: { train_df[columna].isnull().sum()} \")\n",
    "    print(f\"Total de casos imputados con la mediana en test: {test_df[columna].isnull().sum()} \")\n",
    "    return"
   ]
  },
  {
   "cell_type": "code",
   "execution_count": null,
   "id": "72b0ddb7",
   "metadata": {},
   "outputs": [],
   "source": [
    "imputer_median = SimpleImputer(strategy='median')      #Imputa con la mediana\n",
    "imputer_mode = SimpleImputer(strategy='most_frequent') #Imputa con la moda"
   ]
  },
  {
   "cell_type": "markdown",
   "id": "d93fa7d6",
   "metadata": {},
   "source": [
    "#### Analisis de las variables 'MinTemp' y 'MaxTemp':"
   ]
  },
  {
   "cell_type": "code",
   "execution_count": null,
   "id": "78ada28c",
   "metadata": {},
   "outputs": [],
   "source": [
    "plt.figure(figsize=(12,5))\n",
    "\n",
    "plt.subplot(1, 2, 1)\n",
    "plt.title(\"Datos de la temperatura mínima\")\n",
    "sns.boxplot(train_df['MinTemp'], color=\"skyblue\")\n",
    "plt.ylabel('Temperatura en grados (°C)')\n",
    "\n",
    "plt.subplot(1, 2, 2)\n",
    "plt.title(\"Datos de la temperatura máxima\")\n",
    "sns.boxplot(train_df['MaxTemp'], color=\"pink\")\n",
    "plt.ylabel('Temperatura en grados (°C)')\n",
    "\n",
    "plt.show()"
   ]
  },
  {
   "cell_type": "markdown",
   "id": "712a947f",
   "metadata": {},
   "source": [
    "Posee algunos outlier pero siento que son valores que pueden ser datos reales por ende no los eliminaria."
   ]
  },
  {
   "cell_type": "code",
   "execution_count": null,
   "id": "38a13d5b",
   "metadata": {},
   "outputs": [],
   "source": [
    "#Imputar con la mediana la columna \"MinTemp\" en train y test\n",
    "imput_median('MinTemp')\n",
    "\n",
    "train_df['MinTemp'] = imputer_median.fit_transform(train_df[['MinTemp']])\n",
    "test_df['MinTemp'] = imputer_median.transform(test_df[['MinTemp']])"
   ]
  },
  {
   "cell_type": "code",
   "execution_count": null,
   "id": "7af42f4c",
   "metadata": {},
   "outputs": [],
   "source": [
    "#Imputar con la mediana la columna \"MaxTemp\" en train y test\n",
    "imput_median('MaxTemp')\n",
    "\n",
    "train_df['MaxTemp'] = imputer_median.fit_transform(train_df[['MaxTemp']])\n",
    "test_df['MaxTemp'] = imputer_median.transform(test_df[['MaxTemp']])"
   ]
  },
  {
   "cell_type": "markdown",
   "id": "06dc4147",
   "metadata": {},
   "source": [
    "#### Analisis de las variables 'WindGustDir', 'WindDir9am' y 'WindDir3am':"
   ]
  },
  {
   "cell_type": "code",
   "execution_count": null,
   "id": "8750f3bf",
   "metadata": {},
   "outputs": [],
   "source": [
    "dir = train_df['WindGustDir'].value_counts()\n",
    "dir_9 = train_df['WindDir9am'].value_counts()\n",
    "dir_3 = train_df['WindDir3pm'].value_counts()\n",
    "\n",
    "plt.figure(figsize=(21,5))\n",
    "\n",
    "plt.subplot(1,3,1)\n",
    "sns.barplot(x=dir.values, y=dir.index, color = 'skyblue')\n",
    "plt.title('Gráfico de barras de WindGustDir')\n",
    "plt.xlabel('Cantidad')\n",
    "plt.ylabel('Dirección del Viento')\n",
    "\n",
    "plt.subplot(1,3,2)\n",
    "sns.barplot(x=dir_9.values, y=dir_9.index, color = 'skyblue')\n",
    "plt.title('Gráfico de barras de WindDir9am')\n",
    "plt.xlabel('Cantidad')\n",
    "plt.ylabel('Dirección del Viento')\n",
    "\n",
    "plt.subplot(1,3,3)\n",
    "sns.barplot(x=dir_3.values, y=dir_3.index, color = 'skyblue')\n",
    "plt.title('Gráfico de barras de WindDir3pm')\n",
    "plt.xlabel('Cantidad')\n",
    "plt.ylabel('Dirección del Viento')\n",
    "\n",
    "plt.show()"
   ]
  },
  {
   "cell_type": "code",
   "execution_count": null,
   "id": "1d55dd52",
   "metadata": {},
   "outputs": [],
   "source": [
    "#WindGustDir: 7.10%\n",
    "#WindDir9am: 7.26%\n",
    "#WindDir3pm: 2.91%"
   ]
  },
  {
   "cell_type": "markdown",
   "id": "cdebb7cd",
   "metadata": {},
   "source": [
    "Como es una variable categorica, podemos imputar por la moda (el valor más frecuente) ya que el porcentaje de sus faltantes es bajo"
   ]
  },
  {
   "cell_type": "code",
   "execution_count": null,
   "id": "21ab95a6",
   "metadata": {},
   "outputs": [],
   "source": [
    "#Imputar con la mediana la columna \"WindGustDir\" en train y test\n",
    "imput_mode('WindGustDir')\n",
    "\n",
    "# Se utiliza .flatten() para convertir el resultado 2D del imputer a un formato 1D que espera pandas\n",
    "train_df['WindGustDir'] = imputer_mode.fit_transform(train_df[['WindGustDir']]).flatten()\n",
    "test_df['WindGustDir'] = imputer_mode.transform(test_df[['WindGustDir']]).flatten()"
   ]
  },
  {
   "cell_type": "code",
   "execution_count": null,
   "id": "a01a8e97",
   "metadata": {},
   "outputs": [],
   "source": [
    "#Imputar con la mediana la columna \"WindDir9am\" en train y test\n",
    "imput_mode('WindDir9am')\n",
    "\n",
    "train_df['WindDir9am'] = imputer_mode.fit_transform(train_df[['WindDir9am']]).flatten()\n",
    "test_df['WindDir9am'] = imputer_mode.transform(test_df[['WindDir9am']]).flatten()"
   ]
  },
  {
   "cell_type": "code",
   "execution_count": null,
   "id": "944ee5a7",
   "metadata": {},
   "outputs": [],
   "source": [
    "#Imputar con la mediana la columna \"WindDir3pm\" en train y test\n",
    "imput_mode('WindDir3pm')\n",
    "\n",
    "train_df['WindDir3pm'] = imputer_mode.fit_transform(train_df[['WindDir3pm']]).flatten()\n",
    "test_df['WindDir3pm'] = imputer_mode.transform(test_df[['WindDir3pm']]).flatten()"
   ]
  },
  {
   "cell_type": "markdown",
   "id": "388e6969",
   "metadata": {},
   "source": [
    "#### Analisis de las variables 'WindGustSpeed', 'WindSpeed9am' y 'WindSpeed3pm':"
   ]
  },
  {
   "cell_type": "code",
   "execution_count": null,
   "id": "69aa9e0e",
   "metadata": {},
   "outputs": [],
   "source": [
    "plt.figure(figsize=(21,5))\n",
    "\n",
    "plt.subplot(1,3,1)\n",
    "sns.boxplot(train_df['WindGustSpeed'], color='pink')\n",
    "plt.title('Boxplot de WindGustSpeed')\n",
    "plt.xlabel('Velocidad de Ráfaga (km/h)')\n",
    "plt.ylabel('Frecuencia')\n",
    "\n",
    "plt.subplot(1,3,2)\n",
    "sns.boxplot(train_df['WindSpeed9am'], color='purple')\n",
    "plt.title('Boxplot de WindSpeed9am')\n",
    "plt.xlabel('Velocidad de Ráfaga a las 9am (km/h)')\n",
    "plt.ylabel('Frecuencia')\n",
    "\n",
    "plt.subplot(1,3,3)\n",
    "sns.boxplot(train_df['WindSpeed3pm'], color='red')\n",
    "plt.title('Boxplot de WindSpeed3pm')\n",
    "plt.xlabel('Velocidad de Ráfaga a las 3pm (km/h)')\n",
    "plt.ylabel('Frecuencia')\n",
    "\n",
    "plt.show()"
   ]
  },
  {
   "cell_type": "code",
   "execution_count": null,
   "id": "eeb60d7b",
   "metadata": {},
   "outputs": [],
   "source": [
    "#Imputar con la mediana la columna \"WindGustSpeed\" en train y test\n",
    "imput_median('WindGustSpeed')\n",
    "\n",
    "train_df['WindGustSpeed'] = imputer_median.fit_transform(train_df[['WindGustSpeed']])\n",
    "test_df['WindGustSpeed'] = imputer_median.transform(test_df[['WindGustSpeed']])"
   ]
  },
  {
   "cell_type": "code",
   "execution_count": null,
   "id": "7962570a",
   "metadata": {},
   "outputs": [],
   "source": [
    "#Imputar con la mediana la columna \"WindSpeed9am\" en train y test\n",
    "imput_median('WindSpeed9am')\n",
    "\n",
    "train_df['WindSpeed9am'] = imputer_median.fit_transform(train_df[['WindSpeed9am']])\n",
    "test_df['WindSpeed9am'] = imputer_median.transform(test_df[['WindSpeed9am']])"
   ]
  },
  {
   "cell_type": "code",
   "execution_count": null,
   "id": "17604d42",
   "metadata": {},
   "outputs": [],
   "source": [
    "#Imputar con la mediana la columna \"WindSpeed3pm\" en train y test\n",
    "imput_median('WindSpeed3pm')\n",
    "\n",
    "train_df['WindSpeed3pm'] = imputer_median.fit_transform(train_df[['WindSpeed3pm']])\n",
    "test_df['WindSpeed3pm'] = imputer_median.transform(test_df[['WindSpeed3pm']])"
   ]
  },
  {
   "cell_type": "markdown",
   "id": "45e85baf",
   "metadata": {},
   "source": [
    "#### Analisis de las variables 'Humidity9am' y 'Humidity3pm':"
   ]
  },
  {
   "cell_type": "code",
   "execution_count": null,
   "id": "6c4b0d47",
   "metadata": {},
   "outputs": [],
   "source": [
    "plt.figure(figsize=(12,5))\n",
    "\n",
    "plt.subplot(1, 2, 1)\n",
    "plt.title(\"Datos de la húmedad relativa a las 9am\")\n",
    "sns.boxplot(train_df['Humidity9am'], color=\"green\")\n",
    "plt.ylabel('Húmedad  Relativa (%)')\n",
    "\n",
    "plt.subplot(1, 2, 2)\n",
    "plt.title(\"Datos de la húmedad relativa a las 3pm\")\n",
    "sns.boxplot(train_df['Humidity3pm'], color=\"blue\")\n",
    "plt.ylabel('Húmedad Relativa (%)')\n",
    "\n",
    "plt.show()"
   ]
  },
  {
   "cell_type": "code",
   "execution_count": null,
   "id": "04ce6c84",
   "metadata": {},
   "outputs": [],
   "source": [
    "#Humidity9am: 1.82%\n",
    "#Humidity3pm: 3.10%"
   ]
  },
  {
   "cell_type": "code",
   "execution_count": null,
   "id": "a701dc19",
   "metadata": {},
   "outputs": [],
   "source": [
    "#Imputar con la mediana la columna \"Humidity9am\" en train y test\n",
    "imput_median('Humidity9am')\n",
    "\n",
    "train_df['Humidity9am'] = imputer_median.fit_transform(train_df[['Humidity9am']])\n",
    "test_df['Humidity9am'] = imputer_median.transform(test_df[['Humidity9am']])"
   ]
  },
  {
   "cell_type": "code",
   "execution_count": null,
   "id": "49817c82",
   "metadata": {},
   "outputs": [],
   "source": [
    "#Imputar con la mediana la columna \"Humidity3pm\" en train y test\n",
    "imput_median('Humidity3pm')\n",
    "\n",
    "train_df['Humidity3pm'] = imputer_median.fit_transform(train_df[['Humidity3pm']])\n",
    "test_df['Humidity3pm'] = imputer_median.transform(test_df[['Humidity3pm']])"
   ]
  },
  {
   "cell_type": "markdown",
   "id": "54868f2b",
   "metadata": {},
   "source": [
    "#### Analisis de las variables 'Pressure9am' y 'Pressure3pm':"
   ]
  },
  {
   "cell_type": "code",
   "execution_count": null,
   "id": "2f97a359",
   "metadata": {},
   "outputs": [],
   "source": [
    "plt.figure(figsize=(12,5))\n",
    "\n",
    "plt.subplot(1, 2, 1)\n",
    "plt.title(\"Datos de la Presión atmosférica a las 9am\")\n",
    "sns.boxplot(train_df['Pressure9am'], color=\"yellow\")\n",
    "plt.ylabel('Presión Atmosférica (hPa)')\n",
    "\n",
    "plt.subplot(1, 2, 2)\n",
    "plt.title(\"Datos de la Presión atmosférica a las 3pm\")\n",
    "sns.boxplot(train_df['Pressure3pm'], color=\"orange\")\n",
    "plt.ylabel('Presión Atmosférica (hPa)')\n",
    "\n",
    "plt.show()"
   ]
  },
  {
   "cell_type": "code",
   "execution_count": null,
   "id": "db8b8a12",
   "metadata": {},
   "outputs": [],
   "source": [
    "#Pressure9am: 10.36%\n",
    "#Pressure3pm: 10.33%"
   ]
  },
  {
   "cell_type": "code",
   "execution_count": null,
   "id": "5cf44b19",
   "metadata": {},
   "outputs": [],
   "source": [
    "#Imputar con la mediana la columna \"Pressure9am\" en train y test\n",
    "imput_median('Pressure9am')\n",
    "\n",
    "train_df['Pressure9am'] = imputer_median.fit_transform(train_df[['Pressure9am']])\n",
    "test_df['Pressure9am'] = imputer_median.transform(test_df[['Pressure9am']])"
   ]
  },
  {
   "cell_type": "code",
   "execution_count": null,
   "id": "ae79b741",
   "metadata": {},
   "outputs": [],
   "source": [
    "#Imputar con la mediana la columna \"Pressure3pm\" en train y test\n",
    "imput_median('Pressure3pm')\n",
    "\n",
    "train_df['Pressure3pm'] = imputer_median.fit_transform(train_df[['Pressure3pm']])\n",
    "test_df['Pressure3pm'] = imputer_median.transform(test_df[['Pressure3pm']])"
   ]
  },
  {
   "cell_type": "markdown",
   "id": "abc26b44",
   "metadata": {},
   "source": [
    "#### Analisis de las variables 'Temp9am' y 'Temp3pm':"
   ]
  },
  {
   "cell_type": "code",
   "execution_count": null,
   "id": "b0fdf093",
   "metadata": {},
   "outputs": [],
   "source": [
    "plt.figure(figsize=(12,5))\n",
    "\n",
    "plt.subplot(1, 2, 1)\n",
    "plt.title(\"Datos de la temperatura general a las 9am\")\n",
    "sns.boxplot(train_df['Temp9am'], color=\"brown\")\n",
    "plt.ylabel('Temperatura en grados (°C)')\n",
    "\n",
    "plt.subplot(1, 2, 2)\n",
    "plt.title(\"Datos de la temperatura general a las 3pm\")\n",
    "sns.boxplot(train_df['Temp3pm'], color=\"gray\")\n",
    "plt.ylabel('Temperatura en grados (°C)')\n",
    "\n",
    "plt.show()"
   ]
  },
  {
   "cell_type": "code",
   "execution_count": null,
   "id": "cc8de80b",
   "metadata": {},
   "outputs": [],
   "source": [
    "#Temp9am: 1.21%\n",
    "#Temp3pm: 2.48%"
   ]
  },
  {
   "cell_type": "code",
   "execution_count": null,
   "id": "6e553d87",
   "metadata": {},
   "outputs": [],
   "source": [
    "#Imputar con la mediana la columna \"Temp9am\" en train y test\n",
    "imput_median('Temp9am')\n",
    "\n",
    "train_df['Temp9am'] = imputer_median.fit_transform(train_df[['Temp9am']])\n",
    "test_df['Temp9am'] = imputer_median.transform(test_df[['Temp9am']])"
   ]
  },
  {
   "cell_type": "code",
   "execution_count": null,
   "id": "3d760379",
   "metadata": {},
   "outputs": [],
   "source": [
    "#Imputar con la mediana la columna \"Temp3pm\" en train y test\n",
    "imput_median('Temp3pm')\n",
    "\n",
    "train_df['Temp3pm'] = imputer_median.fit_transform(train_df[['Temp3pm']])\n",
    "test_df['Temp3pm'] = imputer_median.transform(test_df[['Temp3pm']])"
   ]
  },
  {
   "cell_type": "markdown",
   "id": "e9c17122",
   "metadata": {},
   "source": [
    "#### Analisis de la variable 'Rainfall':"
   ]
  },
  {
   "cell_type": "code",
   "execution_count": null,
   "id": "19892d13",
   "metadata": {},
   "outputs": [],
   "source": [
    "plt.figure(figsize=(15,5))\n",
    "\n",
    "plt.subplot(1,2,1)\n",
    "plt.title(\"Datos de la precipitación (RainFall)\")\n",
    "sns.boxplot(train_df['Rainfall'], color=\"lightyellow\")\n",
    "plt.ylabel('Milimetros (mm)')\n",
    "\n",
    "plt.subplot(1,2,2)\n",
    "plt.title(\"Datos de la precipitación (RainFall)\")\n",
    "sns.histplot(data=train_df['Rainfall'], color=\"skyblue\", bins=50)\n",
    "plt.ylabel('Milimetros (mm)')\n",
    "\n",
    "plt.show()"
   ]
  },
  {
   "cell_type": "code",
   "execution_count": null,
   "id": "1d5a5fbf",
   "metadata": {},
   "outputs": [],
   "source": [
    "#Rainfall: 2.24%"
   ]
  },
  {
   "cell_type": "code",
   "execution_count": null,
   "id": "5818815c",
   "metadata": {},
   "outputs": [],
   "source": [
    "#Imputar con la mediana la columna \"Rainfall\" en train y test\n",
    "imput_median('Rainfall')\n",
    "\n",
    "train_df['Rainfall'] = imputer_median.fit_transform(train_df[['Rainfall']])\n",
    "test_df['Rainfall'] = imputer_median.transform(test_df[['Rainfall']])"
   ]
  },
  {
   "cell_type": "markdown",
   "id": "af8a2cce",
   "metadata": {},
   "source": [
    "#### Analisis de la variable 'RainToday':"
   ]
  },
  {
   "cell_type": "code",
   "execution_count": null,
   "id": "685ba5ae",
   "metadata": {},
   "outputs": [],
   "source": [
    "rain_t = train_df['RainToday'].value_counts()\n",
    "\n",
    "plt.figure()\n",
    "sns.barplot(x=rain_t.values, y=rain_t.index, color = 'skyblue')\n",
    "plt.title('Datos sobre si llovio un día')\n",
    "plt.xlabel('Cantidad')\n",
    "plt.ylabel('Indicador (Yes/No)')\n",
    "\n",
    "plt.show()"
   ]
  },
  {
   "cell_type": "code",
   "execution_count": null,
   "id": "ee405cce",
   "metadata": {},
   "outputs": [],
   "source": [
    "#RainToday: 2.24%"
   ]
  },
  {
   "cell_type": "markdown",
   "id": "8bbbff7f",
   "metadata": {},
   "source": [
    "Como es una variable categorica, podemos imputar por la moda (el valor más frecuente) ya que el porcentaje de sus faltantes es bajo"
   ]
  },
  {
   "cell_type": "code",
   "execution_count": null,
   "id": "e6a6ad71",
   "metadata": {},
   "outputs": [],
   "source": [
    "#Imputar con la mediana la columna \"RainToday\" en train y test\n",
    "imput_mode('RainToday')\n",
    "\n",
    "train_df['RainToday'] = imputer_mode.fit_transform(train_df[['RainToday']]).flatten()\n",
    "test_df['RainToday'] = imputer_mode.transform(test_df[['RainToday']]).flatten()"
   ]
  },
  {
   "cell_type": "markdown",
   "id": "3d989b36",
   "metadata": {},
   "source": [
    "### Escalado de datos y codificación de variables categoricas\n",
    "---"
   ]
  },
  {
   "cell_type": "code",
   "execution_count": null,
   "id": "82a1f1a0",
   "metadata": {},
   "outputs": [],
   "source": [
    "columnas = ['MinTemp', 'MaxTemp', 'Temp9am', 'Temp3pm', 'Rainfall', 'WindGustSpeed', 'WindSpeed9am', 'WindSpeed3pm', 'Humidity9am', 'Humidity3pm']\n",
    "corr_matrix = train_df[columnas].corr()\n",
    "\n",
    "plt.figure(figsize=(12,5))\n",
    "sns.heatmap(corr_matrix, annot=True, fmt=\".2f\", cmap='coolwarm', cbar=True)\n",
    "plt.title(\"Grafico de correlación\")\n",
    "plt.show()"
   ]
  },
  {
   "cell_type": "code",
   "execution_count": null,
   "id": "3b7e4736",
   "metadata": {},
   "outputs": [],
   "source": [
    "train_df.columns"
   ]
  },
  {
   "cell_type": "code",
   "execution_count": null,
   "id": "3c6bed11",
   "metadata": {},
   "outputs": [],
   "source": [
    "encoder = OneHotEncoder(sparse_output=False)"
   ]
  },
  {
   "cell_type": "code",
   "execution_count": null,
   "id": "1defa03b",
   "metadata": {},
   "outputs": [],
   "source": [
    "# Indicador de si llovio en el día (RainToday)\n",
    "encoder_rain_d = encoder.fit_transform(train_df[[\"RainToday\"]])\n",
    "train_df[encoder.get_feature_names_out([\"RainToday\"])] = encoder_rain_d\n",
    "\n",
    "# Indicador de si llovera mañana (RainTomorrow)\n",
    "encoder_rain_t = encoder.fit_transform(train_df[[\"RainTomorrow\"]])\n",
    "train_df[encoder.get_feature_names_out([\"RainTomorrow\"])] = encoder_rain_t\n",
    "\n",
    "# Regiones\n",
    "encoder_region = encoder.fit_transform(train_df[[\"Regiones\"]])\n",
    "train_df[encoder.get_feature_names_out([\"Regiones\"])] = encoder_region\n",
    "\n",
    "# día de la semana\n",
    "encoder_day = encoder.fit_transform(train_df[[\"day_of_week\"]])\n",
    "train_df[encoder.get_feature_names_out([\"day_of_week\"])] = encoder_day\n",
    "\n",
    "# mes\n",
    "encoder_week = encoder.fit_transform(train_df[[\"week\"]])\n",
    "train_df[encoder.get_feature_names_out([\"week\"])] = encoder_week"
   ]
  },
  {
   "cell_type": "code",
   "execution_count": null,
   "id": "36a41500",
   "metadata": {},
   "outputs": [],
   "source": [
    "#Se hacen lo mismo en el dataset de prueba (test)\n",
    "\n",
    "# Indicador de si llovio en el día (RainToday)\n",
    "encoder_rain_d = encoder.fit_transform(test_df[[\"RainToday\"]])\n",
    "test_df[encoder.get_feature_names_out([\"RainToday\"])] = encoder_rain_d\n",
    "\n",
    "# Indicador de si llovera mañana (RainTomorrow)\n",
    "encoder_rain_t = encoder.fit_transform(test_df[[\"RainTomorrow\"]])\n",
    "test_df[encoder.get_feature_names_out([\"RainTomorrow\"])] = encoder_rain_t\n",
    "\n",
    "# Regiones\n",
    "encoder_region = encoder.fit_transform(test_df[[\"Regiones\"]])\n",
    "test_df[encoder.get_feature_names_out([\"Regiones\"])] = encoder_region\n",
    "\n",
    "# día de la semana\n",
    "encoder_day = encoder.fit_transform(test_df[[\"day_of_week\"]])\n",
    "test_df[encoder.get_feature_names_out([\"day_of_week\"])] = encoder_day\n",
    "\n",
    "# mes\n",
    "encoder_week = encoder.fit_transform(test_df[[\"week\"]])\n",
    "test_df[encoder.get_feature_names_out([\"week\"])] = encoder_week"
   ]
  },
  {
   "cell_type": "code",
   "execution_count": null,
   "id": "100bd7e1",
   "metadata": {},
   "outputs": [],
   "source": [
    "train_df.head()"
   ]
  }
 ],
 "metadata": {
  "kernelspec": {
   "display_name": "venv",
   "language": "python",
   "name": "python3"
  },
  "language_info": {
   "codemirror_mode": {
    "name": "ipython",
    "version": 3
   },
   "file_extension": ".py",
   "mimetype": "text/x-python",
   "name": "python",
   "nbconvert_exporter": "python",
   "pygments_lexer": "ipython3",
   "version": "3.12.3"
  }
 },
 "nbformat": 4,
 "nbformat_minor": 5
}
