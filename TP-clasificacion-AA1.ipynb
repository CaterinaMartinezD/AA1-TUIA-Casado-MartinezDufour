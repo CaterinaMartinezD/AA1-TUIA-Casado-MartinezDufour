{
 "cells": [
  {
   "cell_type": "markdown",
   "id": "9b66e928",
   "metadata": {},
   "source": [
    "### **TRABAJO PRÁCTICO N° 2: Modelo predictivo de lluvia en Australia**\n",
    "---\n",
    " 2do cuatrimestre - Año 2025\n",
    "\n",
    "| **Integrantes**           | **Legajo** |\n",
    "|---------------------------|------------|\n",
    "| Casado, Gustavo.          | C-7296/6   |\n",
    "| Martinez Dufour, Caterina | M-7169/2   |\n",
    "\n",
    "**Docentes:** *Joel Spak* - *Agustín Almada* - *Bruno Cocitto López*\n",
    "\n",
    "**Fecha límite de entrega item 1, 2, 3:** 21/10\n",
    "\n",
    "**Fecha límite de entrega item 4, 5, 6, 7:** 07/11\n",
    "\n",
    "**Fecha límite de entrega item 8, 9, 10, 11:** 29/11"
   ]
  },
  {
   "cell_type": "markdown",
   "id": "8cc9974b",
   "metadata": {},
   "source": [
    "### Descripción del dataset\n",
    "---\n",
    "En este trabajo, nuestro objetivo es **predecir futuros dias donde llovera en Australia**.  El dataset se llama weatherAUS.csv y contiene información climática de Australia de los últimos diez años, incluyendo si para el día siguiente llovió o no en la columna ‘RainTomorrow’. El objetivo del trabajo práctico es armar un ejecutable de Docker para predecir, a las 23:59:59hs de cada día, si el día siguiente va a llover o no.\n",
    "\n",
    "\n",
    "#### Variables del conjunto de datos  \n",
    "\n",
    "**Variables explicativas:**  \n",
    "- **Date**: Fecha en la que se registraron los datos.\n",
    "- **Location**: Nombre de la zona donde se obtuvo la observación.\n",
    "- **MinTemp**: Temperatura mínima en grados (°C).\n",
    "- **MaxTemp**: Temperatura máxima en grados (°C).\n",
    "- **Rainfall**: Precipitación en milímetros (mm).\n",
    "- **Evaporation**: Cantidad de agua evaporada en milímetros (mm).\n",
    "- **Sunshine**: \n",
    "- **WindGustDir**:  Dirección del viento.\n",
    "- **WindGustSpeed**: Velocidad del viento (km/h).\n",
    "- **WindDir9am**: Dirección del viento a las 9am\n",
    "- **WindDir3pm**: Dirección del viento a las 3pm\n",
    "- **WindSpeed9am**: Velocidad del viento a las 9am (km/h).\n",
    "- **WindSpeed3pm**: Velocidad del viento a las 3pm (km/h).\n",
    "- **Humidity9am**: Humedad relativa a las 9am (%).\n",
    "- **Humidity3pm**:  Humedad relativa a las 3pm (%).\n",
    "- **Pressure9am**: Presión atmosférica a las 9am (hPa).\n",
    "- **Pressure3pm**: Presión atmosférica a las 3pm (hPa).\n",
    "- **Cloud9am**: Cantidad de cielo cubierto con nubes a las 9am (octas).\n",
    "- **Cloud3pm**: Cantidad de cielo cubierto con nubes a las 3pm (octas).\n",
    "- **Temp9am**: Temperatura a las 9am (°C).\n",
    "- **Temp3pm**: Temperatura a las 3pm (°C).\n",
    "- **RainToday**:  Indicador si llovió ese dia (Yes/No)\n",
    "\n",
    "**Variable objetivo (target):**  \n",
    "- **RainTomorrow**: Indica si llovió al día siguiente (Yes/No)"
   ]
  },
  {
   "cell_type": "code",
   "execution_count": 189,
   "id": "79188e88",
   "metadata": {},
   "outputs": [],
   "source": [
    "# Librerías\n",
    "import pandas as pd\n",
    "import numpy as np\n",
    "\n",
    "import seaborn as sns\n",
    "import matplotlib.pyplot as plt\n",
    "\n",
    "import plotly.express as px\n",
    "import plotly.graph_objects as go\n",
    "import plotly.figure_factory as ff\n",
    "\n",
    "from sklearn.preprocessing import OneHotEncoder\n",
    "from sklearn.impute import SimpleImputer\n",
    "from sklearn.model_selection import train_test_split\n",
    "from sklearn.preprocessing import StandardScaler, MinMaxScaler, RobustScaler, MaxAbsScaler, PowerTransformer, QuantileTransformer\n",
    "from sklearn.linear_model import LinearRegression, Lasso, Ridge, ElasticNet, LassoCV, RidgeCV, ElasticNetCV\n",
    "from sklearn.metrics import root_mean_squared_error, r2_score, mean_absolute_error\n",
    "from sklearn.impute import KNNImputer\n",
    "from sklearn.cluster import KMeans"
   ]
  },
  {
   "cell_type": "markdown",
   "id": "69fc3ed5",
   "metadata": {},
   "source": [
    "### Carga del dataset\n",
    "---"
   ]
  },
  {
   "cell_type": "markdown",
   "id": "453c47af",
   "metadata": {},
   "source": [
    "Se utilizó la biblioteca pandas para leer los datos almacenados en el archivo CSV y convertirlos en un DataFrame. Para corroborar que los datos se hayan cargado correctamente, se visualizaron las primeras cinco filas mediante el método '.head()'. Además, se empleó el método '.info()' para obtener información general del dataset, verificar que el tipo de dato en cada variable es correcto, detectar la presencia de valores nulos y valores atípicos."
   ]
  },
  {
   "cell_type": "code",
   "execution_count": 190,
   "id": "099b6559",
   "metadata": {},
   "outputs": [],
   "source": [
    "# Carga del dataset\n",
    "file_path= 'weatherAUS.csv'\n",
    "df = pd.read_csv(file_path)"
   ]
  },
  {
   "cell_type": "markdown",
   "id": "63680688",
   "metadata": {},
   "source": [
    "### Transformación de clusters de ciudades a una nueva categoría \"Regiones\"\n",
    "---"
   ]
  },
  {
   "cell_type": "markdown",
   "id": "d853b43e",
   "metadata": {},
   "source": [
    "Se  solicita  en  primera  instancia  crear  clusters  con  las  ciudades del Dataset para \n",
    "catalogarlas en otra categoría: regiones. La cantidad de regiones será definida por \n",
    "cada  grupo,  observarlas  en  un  gráfico  de  latitud  y  longitud  para  acompañar  la \n",
    "decisión. (obtuve los datos de longitud y latitud en 'www.latlong.net')"
   ]
  },
  {
   "cell_type": "code",
   "execution_count": 191,
   "id": "6d26d2f9",
   "metadata": {},
   "outputs": [
    {
     "data": {
      "text/plain": [
       "49"
      ]
     },
     "execution_count": 191,
     "metadata": {},
     "output_type": "execute_result"
    }
   ],
   "source": [
    "len(df['Location'].unique())"
   ]
  },
  {
   "cell_type": "code",
   "execution_count": 192,
   "id": "b95b51d9",
   "metadata": {},
   "outputs": [
    {
     "data": {
      "text/plain": [
       "array(['Albury', 'BadgerysCreek', 'Cobar', 'CoffsHarbour', 'Moree',\n",
       "       'Newcastle', 'NorahHead', 'NorfolkIsland', 'Penrith', 'Richmond',\n",
       "       'Sydney', 'SydneyAirport', 'WaggaWagga', 'Williamtown',\n",
       "       'Wollongong', 'Canberra', 'Tuggeranong', 'MountGinini', 'Ballarat',\n",
       "       'Bendigo', 'Sale', 'MelbourneAirport', 'Melbourne', 'Mildura',\n",
       "       'Nhil', 'Portland', 'Watsonia', 'Dartmoor', 'Brisbane', 'Cairns',\n",
       "       'GoldCoast', 'Townsville', 'Adelaide', 'MountGambier', 'Nuriootpa',\n",
       "       'Woomera', 'Albany', 'Witchcliffe', 'PearceRAAF', 'PerthAirport',\n",
       "       'Perth', 'SalmonGums', 'Walpole', 'Hobart', 'Launceston',\n",
       "       'AliceSprings', 'Darwin', 'Katherine', 'Uluru'], dtype=object)"
      ]
     },
     "execution_count": 192,
     "metadata": {},
     "output_type": "execute_result"
    }
   ],
   "source": [
    "df['Location'].unique()"
   ]
  },
  {
   "cell_type": "code",
   "execution_count": 193,
   "id": "f0e76ca3",
   "metadata": {},
   "outputs": [],
   "source": [
    "renombrar = { \n",
    "    \"BadgerysCreek\": \"Badgerys Creek\", \"CoffsHarbour\": \"Coffs Harbour\", \"NorahHead\" : \"Norah Head\", \"NorfolkIsland\" : \"Norfolk Island\", \"SydneyAirport\": \"Sydney Airport\",\n",
    "    \"WaggaWagga\" : \"Wagga Wagga\", \"MountGinini\": \"Mount Ginini\", \"MelbourneAirport\" : \"Melbourne Airport\", \"Nhil\" : \"Nhill\", \"GoldCoast\" : \"Gold Coast\", \n",
    "    \"MountGambier\" : \"Mount Gambier\", \"PerthAirport\" : \"Perth Airport\", \"SalmonGums\" : \"Salmon Gums\", \"AliceSprings\" : \"Alice Springs\", \"PearceRAAF\" : \"RAFF Base Pearce\"\n",
    "}\n",
    "\n",
    "# Renombra los nombres del dataset\n",
    "df[\"Location\"] = df[\"Location\"].replace(renombrar)"
   ]
  },
  {
   "cell_type": "code",
   "execution_count": 194,
   "id": "f3c46e65",
   "metadata": {},
   "outputs": [],
   "source": [
    "coordenadas = {\n",
    "    \"Albury\": (-36.073730, 146.913544), \"Badgerys Creek\": (-33.887421, 150.740509), \"Cobar\": (-31.494930, 145.840164), \"Coffs Harbour\": (-30.298613, 153.109390),\n",
    "    \"Moree\": (-29.463551, 149.841721), \"Newcastle\": (-32.926670, 151.780014), \"Norah Head\": (-33.283340, 151.566116), \"Norfolk Island\": (-29.040834, 167.954712),\n",
    "    \"Penrith\": (-33.752918, 150.690674), \"Richmond\": (-42.735809, 147.437088), \"Sydney\": (-33.868820, 151.209290), \"Sydney Airport\": (-33.939922, 151.175278),\n",
    "    \"Wagga Wagga\": (-35.114750, 147.369614), \"Williamtown\": (-32.814999, 151.842773), \"Wollongong\": (-34.427811, 150.893066), \"Canberra\": (-35.280937, 149.130005),\n",
    "    \"Tuggeranong\": (-35.424400, 149.088806), \"Mount Ginini\": (-37.828410, 140.780656), \"Ballarat\": (-37.562160, 143.850250), \"Bendigo\": (-36.759338, 144.283997),\n",
    "    \"Sale\": (-38.107250, 147.067291), \"Melbourne Airport\": (-37.670528, 144.848938), \"Melbourne\": (-37.813629, 144.963058), \"Mildura\": (-34.210468, 142.142044),\n",
    "    \"Nhill\": (-36.332472, 141.649494), \"Portland\": (-38.342281, 141.603958), \"Watsonia\": (-37.711699, 145.082002), \"Dartmoor\": (-37.919090, 141.274673),\n",
    "    \"Brisbane\": (-27.470030, 153.022980), \"Cairns\": (-16.918550, 145.778061), \"Gold Coast\": (-28.001499, 153.428467), \"Townsville\": (-19.258965, 146.816956),\n",
    "    \"Adelaide\": (-34.927170, 138.599533), \"Mount Gambier\": (-37.828411, 140.780655), \"Nuriootpa\": (-34.471859, 138.996216), \"Woomera\": (-31.200684, 136.825919),\n",
    "    \"Albany\": (-35.023819, 117.884727), \"Witchcliffe\": (-34.025699, 115.100107), \"RAFF Base Pearce\": (-17.591089, 123.777382), \"Perth Airport\": (-31.932739, 115.960258),\n",
    "    \"Perth\": (-31.950527, 115.860458), \"Salmon Gums\": (-32.982075, 121.644170), \"Walpole\": (-34.976129, 116.731910), \"Hobart\": (-42.881901, 147.323807),\n",
    "    \"Launceston\": (-41.437019, 147.139389), \"Alice Springs\": (-23.700680, 133.880707), \"Darwin\": (-12.463440, 130.845642), \"Katherine\": (-14.464970, 132.264267),\n",
    "    \"Uluru\": (-25.344427, 131.036880)\n",
    "}"
   ]
  },
  {
   "cell_type": "code",
   "execution_count": 195,
   "id": "8528f164",
   "metadata": {},
   "outputs": [],
   "source": [
    "df['Latitud'] = df['Location'].map(lambda x: coordenadas.get(x, (None, None))[0])\n",
    "df['Longitud'] = df['Location'].map(lambda x: coordenadas.get(x, (None, None))[1])"
   ]
  },
  {
   "cell_type": "code",
   "execution_count": 196,
   "id": "8027d33a",
   "metadata": {},
   "outputs": [
    {
     "data": {
      "image/png": "[encoded data removed]",
      "text/plain": [
       "<Figure size 1200x500 with 1 Axes>"
      ]
     },
     "metadata": {},
     "output_type": "display_data"
    }
   ],
   "source": [
    "plt.figure(figsize=(12,5))\n",
    "sns.scatterplot(x='Longitud', y='Latitud', data=df, hue='Location', palette='tab20')\n",
    "plt.title('Mapa de localizaciones')\n",
    "plt.legend(title=\"Localización\", bbox_to_anchor=(1.05, 1), loc='upper left', fontsize=8)\n",
    "plt.show()"
   ]
  },
  {
   "cell_type": "markdown",
   "id": "28695a8b",
   "metadata": {},
   "source": [
    "Para determinar el número óptimo de regiones en las que se agrupan las zonas donde se tomaron datos sobre la lluvia, se empleó el método del Codo. Este método utiliza k-means para un rango de valores de k y calcula la inercia para cada iteración. Para saber que valor seleccionar, observamos el gráfico del codo"
   ]
  },
  {
   "cell_type": "code",
   "execution_count": 197,
   "id": "f58c7272",
   "metadata": {},
   "outputs": [],
   "source": [
    "X = df[['Latitud', 'Longitud']].values\n",
    "scaler = StandardScaler()\n",
    "X_scaled = scaler.fit_transform(X)"
   ]
  },
  {
   "cell_type": "code",
   "execution_count": 198,
   "id": "abe5354f",
   "metadata": {},
   "outputs": [
    {
     "data": {
      "image/png": "[encoded data removed]",
      "text/plain": [
       "<Figure size 1500x400 with 1 Axes>"
      ]
     },
     "metadata": {},
     "output_type": "display_data"
    }
   ],
   "source": [
    "inertias = []\n",
    "max_k = 15\n",
    "\n",
    "# Calculamos la inercia para cada k\n",
    "for k in range(1, max_k + 1):\n",
    "    kmeans = KMeans(n_clusters=k, random_state=42, n_init=10)\n",
    "    kmeans.fit(X_scaled)\n",
    "    inertias.append(kmeans.inertia_)\n",
    "\n",
    "\n",
    "plt.figure(figsize=(15,4))\n",
    "plt.plot(range(1, max_k + 1), inertias, marker='o', linestyle='--')\n",
    "plt.xlabel('Número de Clusters (k)')\n",
    "plt.ylabel('Inercia')\n",
    "plt.title('Método del Codo para Encontrar k Óptimo')\n",
    "plt.grid(True)\n",
    "plt.xticks(range(1, max_k + 1))\n",
    "plt.show()"
   ]
  },
  {
   "cell_type": "markdown",
   "id": "c4111fe7",
   "metadata": {},
   "source": [
    "Este método muestra que hay un quiebre en k = 4 debido a que se ve una caída fuerte hasta este valor y luego el descenso es mucho más leve. Es por esta razón que podemos concluir que el valor optimo para dividir las localizaciones será en 4 regiones (norte, sur, este y oeste)."
   ]
  },
  {
   "cell_type": "code",
   "execution_count": 199,
   "id": "803b28de",
   "metadata": {},
   "outputs": [],
   "source": [
    "kmeans = KMeans(n_clusters = 4, random_state=42, n_init = 10)\n",
    "df['Regiones'] = kmeans.fit_predict(X_scaled)"
   ]
  },
  {
   "cell_type": "code",
   "execution_count": 200,
   "id": "dd44fb56",
   "metadata": {},
   "outputs": [
    {
     "data": {
      "text/html": [
       "<div>\n",
       "<style scoped>\n",
       "    .dataframe tbody tr th:only-of-type {\n",
       "        vertical-align: middle;\n",
       "    }\n",
       "\n",
       "    .dataframe tbody tr th {\n",
       "        vertical-align: top;\n",
       "    }\n",
       "\n",
       "    .dataframe thead th {\n",
       "        text-align: right;\n",
       "    }\n",
       "</style>\n",
       "<table border=\"1\" class=\"dataframe\">\n",
       "  <thead>\n",
       "    <tr style=\"text-align: right;\">\n",
       "      <th></th>\n",
       "      <th>Date</th>\n",
       "      <th>Location</th>\n",
       "      <th>MinTemp</th>\n",
       "      <th>MaxTemp</th>\n",
       "      <th>Rainfall</th>\n",
       "      <th>Evaporation</th>\n",
       "      <th>Sunshine</th>\n",
       "      <th>WindGustDir</th>\n",
       "      <th>WindGustSpeed</th>\n",
       "      <th>WindDir9am</th>\n",
       "      <th>...</th>\n",
       "      <th>Pressure3pm</th>\n",
       "      <th>Cloud9am</th>\n",
       "      <th>Cloud3pm</th>\n",
       "      <th>Temp9am</th>\n",
       "      <th>Temp3pm</th>\n",
       "      <th>RainToday</th>\n",
       "      <th>RainTomorrow</th>\n",
       "      <th>Latitud</th>\n",
       "      <th>Longitud</th>\n",
       "      <th>Regiones</th>\n",
       "    </tr>\n",
       "  </thead>\n",
       "  <tbody>\n",
       "    <tr>\n",
       "      <th>0</th>\n",
       "      <td>2008-12-01</td>\n",
       "      <td>Albury</td>\n",
       "      <td>13.4</td>\n",
       "      <td>22.9</td>\n",
       "      <td>0.6</td>\n",
       "      <td>NaN</td>\n",
       "      <td>NaN</td>\n",
       "      <td>W</td>\n",
       "      <td>44.0</td>\n",
       "      <td>W</td>\n",
       "      <td>...</td>\n",
       "      <td>1007.1</td>\n",
       "      <td>8.0</td>\n",
       "      <td>NaN</td>\n",
       "      <td>16.9</td>\n",
       "      <td>21.8</td>\n",
       "      <td>No</td>\n",
       "      <td>No</td>\n",
       "      <td>-36.07373</td>\n",
       "      <td>146.913544</td>\n",
       "      <td>Sur</td>\n",
       "    </tr>\n",
       "    <tr>\n",
       "      <th>1</th>\n",
       "      <td>2008-12-02</td>\n",
       "      <td>Albury</td>\n",
       "      <td>7.4</td>\n",
       "      <td>25.1</td>\n",
       "      <td>0.0</td>\n",
       "      <td>NaN</td>\n",
       "      <td>NaN</td>\n",
       "      <td>WNW</td>\n",
       "      <td>44.0</td>\n",
       "      <td>NNW</td>\n",
       "      <td>...</td>\n",
       "      <td>1007.8</td>\n",
       "      <td>NaN</td>\n",
       "      <td>NaN</td>\n",
       "      <td>17.2</td>\n",
       "      <td>24.3</td>\n",
       "      <td>No</td>\n",
       "      <td>No</td>\n",
       "      <td>-36.07373</td>\n",
       "      <td>146.913544</td>\n",
       "      <td>Sur</td>\n",
       "    </tr>\n",
       "    <tr>\n",
       "      <th>2</th>\n",
       "      <td>2008-12-03</td>\n",
       "      <td>Albury</td>\n",
       "      <td>12.9</td>\n",
       "      <td>25.7</td>\n",
       "      <td>0.0</td>\n",
       "      <td>NaN</td>\n",
       "      <td>NaN</td>\n",
       "      <td>WSW</td>\n",
       "      <td>46.0</td>\n",
       "      <td>W</td>\n",
       "      <td>...</td>\n",
       "      <td>1008.7</td>\n",
       "      <td>NaN</td>\n",
       "      <td>2.0</td>\n",
       "      <td>21.0</td>\n",
       "      <td>23.2</td>\n",
       "      <td>No</td>\n",
       "      <td>No</td>\n",
       "      <td>-36.07373</td>\n",
       "      <td>146.913544</td>\n",
       "      <td>Sur</td>\n",
       "    </tr>\n",
       "    <tr>\n",
       "      <th>3</th>\n",
       "      <td>2008-12-04</td>\n",
       "      <td>Albury</td>\n",
       "      <td>9.2</td>\n",
       "      <td>28.0</td>\n",
       "      <td>0.0</td>\n",
       "      <td>NaN</td>\n",
       "      <td>NaN</td>\n",
       "      <td>NE</td>\n",
       "      <td>24.0</td>\n",
       "      <td>SE</td>\n",
       "      <td>...</td>\n",
       "      <td>1012.8</td>\n",
       "      <td>NaN</td>\n",
       "      <td>NaN</td>\n",
       "      <td>18.1</td>\n",
       "      <td>26.5</td>\n",
       "      <td>No</td>\n",
       "      <td>No</td>\n",
       "      <td>-36.07373</td>\n",
       "      <td>146.913544</td>\n",
       "      <td>Sur</td>\n",
       "    </tr>\n",
       "    <tr>\n",
       "      <th>4</th>\n",
       "      <td>2008-12-05</td>\n",
       "      <td>Albury</td>\n",
       "      <td>17.5</td>\n",
       "      <td>32.3</td>\n",
       "      <td>1.0</td>\n",
       "      <td>NaN</td>\n",
       "      <td>NaN</td>\n",
       "      <td>W</td>\n",
       "      <td>41.0</td>\n",
       "      <td>ENE</td>\n",
       "      <td>...</td>\n",
       "      <td>1006.0</td>\n",
       "      <td>7.0</td>\n",
       "      <td>8.0</td>\n",
       "      <td>17.8</td>\n",
       "      <td>29.7</td>\n",
       "      <td>No</td>\n",
       "      <td>No</td>\n",
       "      <td>-36.07373</td>\n",
       "      <td>146.913544</td>\n",
       "      <td>Sur</td>\n",
       "    </tr>\n",
       "  </tbody>\n",
       "</table>\n",
       "<p>5 rows × 26 columns</p>\n",
       "</div>"
      ],
      "text/plain": [
       "         Date Location  MinTemp  MaxTemp  Rainfall  Evaporation  Sunshine  \\\n",
       "0  2008-12-01   Albury     13.4     22.9       0.6          NaN       NaN   \n",
       "1  2008-12-02   Albury      7.4     25.1       0.0          NaN       NaN   \n",
       "2  2008-12-03   Albury     12.9     25.7       0.0          NaN       NaN   \n",
       "3  2008-12-04   Albury      9.2     28.0       0.0          NaN       NaN   \n",
       "4  2008-12-05   Albury     17.5     32.3       1.0          NaN       NaN   \n",
       "\n",
       "  WindGustDir  WindGustSpeed WindDir9am  ... Pressure3pm  Cloud9am  Cloud3pm  \\\n",
       "0           W           44.0          W  ...      1007.1       8.0       NaN   \n",
       "1         WNW           44.0        NNW  ...      1007.8       NaN       NaN   \n",
       "2         WSW           46.0          W  ...      1008.7       NaN       2.0   \n",
       "3          NE           24.0         SE  ...      1012.8       NaN       NaN   \n",
       "4           W           41.0        ENE  ...      1006.0       7.0       8.0   \n",
       "\n",
       "   Temp9am  Temp3pm  RainToday  RainTomorrow   Latitud    Longitud  Regiones  \n",
       "0     16.9     21.8         No            No -36.07373  146.913544       Sur  \n",
       "1     17.2     24.3         No            No -36.07373  146.913544       Sur  \n",
       "2     21.0     23.2         No            No -36.07373  146.913544       Sur  \n",
       "3     18.1     26.5         No            No -36.07373  146.913544       Sur  \n",
       "4     17.8     29.7         No            No -36.07373  146.913544       Sur  \n",
       "\n",
       "[5 rows x 26 columns]"
      ]
     },
     "execution_count": 200,
     "metadata": {},
     "output_type": "execute_result"
    }
   ],
   "source": [
    "etiqueta = {0: 'Sur', 1: 'Norte', 2: 'Este', 3: 'Oeste'}\n",
    "df['Regiones'] = df['Regiones'].map(etiqueta)\n",
    "df.head()"
   ]
  },
  {
   "cell_type": "code",
   "execution_count": null,
   "id": "d9e3ebd5",
   "metadata": {},
   "outputs": [
    {
     "data": {
      "image/png": "[encoded data removed]",
      "text/plain": [
       "<Figure size 1200x500 with 1 Axes>"
      ]
     },
     "metadata": {},
     "output_type": "display_data"
    }
   ],
   "source": [
    "plt.figure(figsize=(12,5))\n",
    "sns.scatterplot(x=\"Longitud\", y=\"Latitud\", hue=\"Regiones\", data=df, palette=\"tab10\")\n",
    "plt.xlabel('Longitud')\n",
    "plt.ylabel('Latitud')\n",
    "plt.title(f'Regiones')\n",
    "plt.legend(title=\"Regiones\")\n",
    "plt.show()"
   ]
  },
  {
   "cell_type": "markdown",
   "id": "40e62ad6",
   "metadata": {},
   "source": [
    "### Analisis descriptivo\n",
    "---"
   ]
  },
  {
   "cell_type": "markdown",
   "id": "b0c4bcec",
   "metadata": {},
   "source": [
    "Realizar un análisis descriptivo, que ayude a la comprensión del problema, de cada una  de  las  variables  involucradas,  detallando:  características,  comportamiento  y \n",
    "rango de variación. ¿Qué es cada variable?. Debe incluir: \n",
    "\n",
    "●  Análisis y decisión sobre datos faltantes. \n",
    "\n",
    "●  Visualización de datos (por ejemplo histogramas, scatterplots entre variables, diagramas de caja) \n",
    "\n",
    "●  ¿Está balanceado el dataset? ¿Por qué cree que hacemos esta pregunta? \n",
    "\n",
    "●  Codificación de variables categóricas (si se van a utilizar para predicción). \n",
    "\n",
    "●  Matriz de correlación de variables. \n",
    "\n",
    "●  Estandarización/escalado de datos. \n",
    "\n",
    "●  Validación cruzada train - test. Realizar una división del conjunto de datos en  conjuntos  de  entrenamiento  y  prueba  (y  si  se  quiere,  se  puede  incluir  validación, que luego será útil) en el MOMENTO donde lo crean adecuado"
   ]
  },
  {
   "cell_type": "markdown",
   "id": "a1b2d619",
   "metadata": {},
   "source": [
    "### Transformación del dataset original\n",
    "---"
   ]
  },
  {
   "cell_type": "markdown",
   "id": "d71691b9",
   "metadata": {},
   "source": [
    "#### Análisis y decisión sobre datos faltantes"
   ]
  },
  {
   "cell_type": "code",
   "execution_count": 202,
   "id": "2832649b",
   "metadata": {},
   "outputs": [
    {
     "data": {
      "text/plain": [
       "Date                 0\n",
       "Location             0\n",
       "MinTemp           1485\n",
       "MaxTemp           1261\n",
       "Rainfall          3261\n",
       "Evaporation      62790\n",
       "Sunshine         69835\n",
       "WindGustDir      10326\n",
       "WindGustSpeed    10263\n",
       "WindDir9am       10566\n",
       "WindDir3pm        4228\n",
       "WindSpeed9am      1767\n",
       "WindSpeed3pm      3062\n",
       "Humidity9am       2654\n",
       "Humidity3pm       4507\n",
       "Pressure9am      15065\n",
       "Pressure3pm      15028\n",
       "Cloud9am         55888\n",
       "Cloud3pm         59358\n",
       "Temp9am           1767\n",
       "Temp3pm           3609\n",
       "RainToday         3261\n",
       "RainTomorrow      3267\n",
       "Latitud              0\n",
       "Longitud             0\n",
       "Regiones             0\n",
       "dtype: int64"
      ]
     },
     "execution_count": 202,
     "metadata": {},
     "output_type": "execute_result"
    }
   ],
   "source": [
    "df.isnull().sum()"
   ]
  },
  {
   "cell_type": "code",
   "execution_count": 203,
   "id": "c2061196",
   "metadata": {},
   "outputs": [
    {
     "name": "stdout",
     "output_type": "stream",
     "text": [
      "Porcentaje de los valores faltantes de todas las columnas:\n",
      "Date: 0.00%\n",
      "Location: 0.00%\n",
      "MinTemp: 1.02%\n",
      "MaxTemp: 0.87%\n",
      "Rainfall: 2.24%\n",
      "Evaporation: 43.17%\n",
      "Sunshine: 48.01%\n",
      "WindGustDir: 7.10%\n",
      "WindGustSpeed: 7.06%\n",
      "WindDir9am: 7.26%\n",
      "WindDir3pm: 2.91%\n",
      "WindSpeed9am: 1.21%\n",
      "WindSpeed3pm: 2.11%\n",
      "Humidity9am: 1.82%\n",
      "Humidity3pm: 3.10%\n",
      "Pressure9am: 10.36%\n",
      "Pressure3pm: 10.33%\n",
      "Cloud9am: 38.42%\n",
      "Cloud3pm: 40.81%\n",
      "Temp9am: 1.21%\n",
      "Temp3pm: 2.48%\n",
      "RainToday: 2.24%\n",
      "RainTomorrow: 2.25%\n",
      "Latitud: 0.00%\n",
      "Longitud: 0.00%\n",
      "Regiones: 0.00%\n"
     ]
    }
   ],
   "source": [
    "def calcular_porcentaje(faltante, total):\n",
    "    if total == 0:\n",
    "        return 0 # para evitar la division por cero\n",
    "    \n",
    "    porcentaje = (faltante / total) * 100\n",
    "    return porcentaje \n",
    "\n",
    "def imprimir_porcentaje(porcentaje, columna):\n",
    "    print(f\"{columna}: {porcentaje:.2f}%\")\n",
    "    return\n",
    "\n",
    "def datos_faltantes(columna):\n",
    "    faltante = df[columna].isnull().sum()\n",
    "    total = len(df)\n",
    "    porcentaje = calcular_porcentaje(faltante, total)\n",
    "    imprimir_porcentaje(porcentaje, columna)\n",
    "    return \n",
    "\n",
    "print(\"Porcentaje de los valores faltantes de todas las columnas:\")\n",
    "for columna in df.columns:\n",
    "    datos_faltantes(columna)"
   ]
  },
  {
   "cell_type": "markdown",
   "id": "9108f848",
   "metadata": {},
   "source": [
    "Podemos observar que las columnas que poseen un mayor valor de faltantes son los siguientes:\n",
    "- Evaporation: 43.17%\n",
    "- Sunshine: 48.01%\n",
    "- Cloud9am: 38.42%\n",
    "- Cloud3pm: 40.81%\n",
    "\n",
    "El resto de valores tiene un porcentaje menor al 10% aproximadamente por lo que estos datos veria correcto imputarlos de ser necesario con algun metodo luego de dividir el dataset. El resto de columnas que posee esa gran cantidad de datos faltantes (30-50%) diria de eliminarlos del dataset debido que al ser un valor tan elevado de faltantes imputar los datos serian bastante lo que afectaria en un futuro al predecir el modelo."
   ]
  },
  {
   "cell_type": "code",
   "execution_count": 204,
   "id": "a305eee1",
   "metadata": {},
   "outputs": [],
   "source": [
    "columnas = ['Sunshine', 'Evaporation', 'Cloud3pm', 'Cloud9am']\n",
    "df = df.drop(columns=columnas)"
   ]
  },
  {
   "cell_type": "markdown",
   "id": "6f11c51b",
   "metadata": {},
   "source": [
    "#### Transformación de datos y variables de interés"
   ]
  },
  {
   "cell_type": "code",
   "execution_count": 205,
   "id": "21c77d9f",
   "metadata": {},
   "outputs": [
    {
     "name": "stdout",
     "output_type": "stream",
     "text": [
      "<class 'pandas.core.frame.DataFrame'>\n",
      "RangeIndex: 145460 entries, 0 to 145459\n",
      "Data columns (total 22 columns):\n",
      " #   Column         Non-Null Count   Dtype  \n",
      "---  ------         --------------   -----  \n",
      " 0   Date           145460 non-null  object \n",
      " 1   Location       145460 non-null  object \n",
      " 2   MinTemp        143975 non-null  float64\n",
      " 3   MaxTemp        144199 non-null  float64\n",
      " 4   Rainfall       142199 non-null  float64\n",
      " 5   WindGustDir    135134 non-null  object \n",
      " 6   WindGustSpeed  135197 non-null  float64\n",
      " 7   WindDir9am     134894 non-null  object \n",
      " 8   WindDir3pm     141232 non-null  object \n",
      " 9   WindSpeed9am   143693 non-null  float64\n",
      " 10  WindSpeed3pm   142398 non-null  float64\n",
      " 11  Humidity9am    142806 non-null  float64\n",
      " 12  Humidity3pm    140953 non-null  float64\n",
      " 13  Pressure9am    130395 non-null  float64\n",
      " 14  Pressure3pm    130432 non-null  float64\n",
      " 15  Temp9am        143693 non-null  float64\n",
      " 16  Temp3pm        141851 non-null  float64\n",
      " 17  RainToday      142199 non-null  object \n",
      " 18  RainTomorrow   142193 non-null  object \n",
      " 19  Latitud        145460 non-null  float64\n",
      " 20  Longitud       145460 non-null  float64\n",
      " 21  Regiones       145460 non-null  object \n",
      "dtypes: float64(14), object(8)\n",
      "memory usage: 24.4+ MB\n"
     ]
    }
   ],
   "source": [
    "df.info()"
   ]
  },
  {
   "cell_type": "markdown",
   "id": "796f3a87",
   "metadata": {},
   "source": [
    "Teniendo en cuenta las variables que poseemos, considero que al hacer la columna \"Regiones\" ya no es necesario mantener en el dataset \"Location\" debido que ya estamos representando estos datos por zonas. Por otro lado debemos transformar probablemente la columna \"Date\" para poder agregarlo al modelo (por ejemplo: dia de la semana, mes y año)."
   ]
  },
  {
   "cell_type": "code",
   "execution_count": 206,
   "id": "05dc8726",
   "metadata": {},
   "outputs": [],
   "source": [
    "df['Date'] = pd.to_datetime(df['Date'])  "
   ]
  },
  {
   "cell_type": "code",
   "execution_count": 207,
   "id": "4fd73a46",
   "metadata": {},
   "outputs": [],
   "source": [
    "df['day_of_week'] = df['Date'].dt.dayofweek\n",
    "def dia_semana(dia):\n",
    "    if dia == 0:\n",
    "        return 'Lunes'\n",
    "    elif dia == 1:\n",
    "        return 'Martes'\n",
    "    elif dia == 2:\n",
    "        return 'Miercoles'\n",
    "    elif dia == 3:\n",
    "        return 'Jueves'\n",
    "    elif dia == 4:\n",
    "        return 'Viernes'\n",
    "    elif dia == 5:\n",
    "        return 'Sabado'\n",
    "    else:\n",
    "        return 'Domingo'\n",
    "    \n",
    "df['day_of_week'] = df['day_of_week'].apply(dia_semana)"
   ]
  },
  {
   "cell_type": "code",
   "execution_count": 208,
   "id": "fe1efdab",
   "metadata": {},
   "outputs": [],
   "source": [
    "df['week'] = df['Date'].dt.day_of_week\n",
    "def mes(d_mes):\n",
    "    if d_mes == 0:\n",
    "        return 'Enero'\n",
    "    elif d_mes == 1:\n",
    "        return 'Febrero'\n",
    "    elif d_mes == 2:\n",
    "        return 'Marzo'\n",
    "    elif d_mes == 3:\n",
    "        return 'Abril'\n",
    "    elif d_mes == 4:\n",
    "        return 'Mayo'\n",
    "    elif d_mes == 5:\n",
    "        return 'Junio'\n",
    "    elif d_mes == 6:\n",
    "        return 'Julio'\n",
    "    elif d_mes == 7:\n",
    "        return 'Agosto'\n",
    "    elif d_mes == 8:\n",
    "        return 'Septiembre'\n",
    "    elif d_mes == 9:\n",
    "        return 'Octubre'\n",
    "    elif d_mes == 10:\n",
    "        return 'Noviembre'\n",
    "    elif d_mes == 11:\n",
    "        return 'Diciembre'\n",
    "    \n",
    "df['week'] = df['week'].apply(mes)"
   ]
  },
  {
   "cell_type": "code",
   "execution_count": 209,
   "id": "3cbe3e9f",
   "metadata": {},
   "outputs": [],
   "source": [
    "df['Year'] = df['Date'].dt.year"
   ]
  },
  {
   "cell_type": "code",
   "execution_count": 210,
   "id": "ca2be591",
   "metadata": {},
   "outputs": [],
   "source": [
    "# Eliminación de columnas que no son de interes\n",
    "columnas = ['Date', 'Location']\n",
    "df = df.drop(columns=columnas)"
   ]
  },
  {
   "cell_type": "code",
   "execution_count": 211,
   "id": "ee248057",
   "metadata": {},
   "outputs": [
    {
     "data": {
      "text/html": [
       "<div>\n",
       "<style scoped>\n",
       "    .dataframe tbody tr th:only-of-type {\n",
       "        vertical-align: middle;\n",
       "    }\n",
       "\n",
       "    .dataframe tbody tr th {\n",
       "        vertical-align: top;\n",
       "    }\n",
       "\n",
       "    .dataframe thead th {\n",
       "        text-align: right;\n",
       "    }\n",
       "</style>\n",
       "<table border=\"1\" class=\"dataframe\">\n",
       "  <thead>\n",
       "    <tr style=\"text-align: right;\">\n",
       "      <th></th>\n",
       "      <th>MinTemp</th>\n",
       "      <th>MaxTemp</th>\n",
       "      <th>Rainfall</th>\n",
       "      <th>WindGustDir</th>\n",
       "      <th>WindGustSpeed</th>\n",
       "      <th>WindDir9am</th>\n",
       "      <th>WindDir3pm</th>\n",
       "      <th>WindSpeed9am</th>\n",
       "      <th>WindSpeed3pm</th>\n",
       "      <th>Humidity9am</th>\n",
       "      <th>...</th>\n",
       "      <th>Temp9am</th>\n",
       "      <th>Temp3pm</th>\n",
       "      <th>RainToday</th>\n",
       "      <th>RainTomorrow</th>\n",
       "      <th>Latitud</th>\n",
       "      <th>Longitud</th>\n",
       "      <th>Regiones</th>\n",
       "      <th>day_of_week</th>\n",
       "      <th>week</th>\n",
       "      <th>Year</th>\n",
       "    </tr>\n",
       "  </thead>\n",
       "  <tbody>\n",
       "    <tr>\n",
       "      <th>0</th>\n",
       "      <td>13.4</td>\n",
       "      <td>22.9</td>\n",
       "      <td>0.6</td>\n",
       "      <td>W</td>\n",
       "      <td>44.0</td>\n",
       "      <td>W</td>\n",
       "      <td>WNW</td>\n",
       "      <td>20.0</td>\n",
       "      <td>24.0</td>\n",
       "      <td>71.0</td>\n",
       "      <td>...</td>\n",
       "      <td>16.9</td>\n",
       "      <td>21.8</td>\n",
       "      <td>No</td>\n",
       "      <td>No</td>\n",
       "      <td>-36.07373</td>\n",
       "      <td>146.913544</td>\n",
       "      <td>Sur</td>\n",
       "      <td>Lunes</td>\n",
       "      <td>Enero</td>\n",
       "      <td>2008</td>\n",
       "    </tr>\n",
       "    <tr>\n",
       "      <th>1</th>\n",
       "      <td>7.4</td>\n",
       "      <td>25.1</td>\n",
       "      <td>0.0</td>\n",
       "      <td>WNW</td>\n",
       "      <td>44.0</td>\n",
       "      <td>NNW</td>\n",
       "      <td>WSW</td>\n",
       "      <td>4.0</td>\n",
       "      <td>22.0</td>\n",
       "      <td>44.0</td>\n",
       "      <td>...</td>\n",
       "      <td>17.2</td>\n",
       "      <td>24.3</td>\n",
       "      <td>No</td>\n",
       "      <td>No</td>\n",
       "      <td>-36.07373</td>\n",
       "      <td>146.913544</td>\n",
       "      <td>Sur</td>\n",
       "      <td>Martes</td>\n",
       "      <td>Febrero</td>\n",
       "      <td>2008</td>\n",
       "    </tr>\n",
       "    <tr>\n",
       "      <th>2</th>\n",
       "      <td>12.9</td>\n",
       "      <td>25.7</td>\n",
       "      <td>0.0</td>\n",
       "      <td>WSW</td>\n",
       "      <td>46.0</td>\n",
       "      <td>W</td>\n",
       "      <td>WSW</td>\n",
       "      <td>19.0</td>\n",
       "      <td>26.0</td>\n",
       "      <td>38.0</td>\n",
       "      <td>...</td>\n",
       "      <td>21.0</td>\n",
       "      <td>23.2</td>\n",
       "      <td>No</td>\n",
       "      <td>No</td>\n",
       "      <td>-36.07373</td>\n",
       "      <td>146.913544</td>\n",
       "      <td>Sur</td>\n",
       "      <td>Miercoles</td>\n",
       "      <td>Marzo</td>\n",
       "      <td>2008</td>\n",
       "    </tr>\n",
       "    <tr>\n",
       "      <th>3</th>\n",
       "      <td>9.2</td>\n",
       "      <td>28.0</td>\n",
       "      <td>0.0</td>\n",
       "      <td>NE</td>\n",
       "      <td>24.0</td>\n",
       "      <td>SE</td>\n",
       "      <td>E</td>\n",
       "      <td>11.0</td>\n",
       "      <td>9.0</td>\n",
       "      <td>45.0</td>\n",
       "      <td>...</td>\n",
       "      <td>18.1</td>\n",
       "      <td>26.5</td>\n",
       "      <td>No</td>\n",
       "      <td>No</td>\n",
       "      <td>-36.07373</td>\n",
       "      <td>146.913544</td>\n",
       "      <td>Sur</td>\n",
       "      <td>Jueves</td>\n",
       "      <td>Abril</td>\n",
       "      <td>2008</td>\n",
       "    </tr>\n",
       "    <tr>\n",
       "      <th>4</th>\n",
       "      <td>17.5</td>\n",
       "      <td>32.3</td>\n",
       "      <td>1.0</td>\n",
       "      <td>W</td>\n",
       "      <td>41.0</td>\n",
       "      <td>ENE</td>\n",
       "      <td>NW</td>\n",
       "      <td>7.0</td>\n",
       "      <td>20.0</td>\n",
       "      <td>82.0</td>\n",
       "      <td>...</td>\n",
       "      <td>17.8</td>\n",
       "      <td>29.7</td>\n",
       "      <td>No</td>\n",
       "      <td>No</td>\n",
       "      <td>-36.07373</td>\n",
       "      <td>146.913544</td>\n",
       "      <td>Sur</td>\n",
       "      <td>Viernes</td>\n",
       "      <td>Mayo</td>\n",
       "      <td>2008</td>\n",
       "    </tr>\n",
       "  </tbody>\n",
       "</table>\n",
       "<p>5 rows × 23 columns</p>\n",
       "</div>"
      ],
      "text/plain": [
       "   MinTemp  MaxTemp  Rainfall WindGustDir  WindGustSpeed WindDir9am  \\\n",
       "0     13.4     22.9       0.6           W           44.0          W   \n",
       "1      7.4     25.1       0.0         WNW           44.0        NNW   \n",
       "2     12.9     25.7       0.0         WSW           46.0          W   \n",
       "3      9.2     28.0       0.0          NE           24.0         SE   \n",
       "4     17.5     32.3       1.0           W           41.0        ENE   \n",
       "\n",
       "  WindDir3pm  WindSpeed9am  WindSpeed3pm  Humidity9am  ...  Temp9am  Temp3pm  \\\n",
       "0        WNW          20.0          24.0         71.0  ...     16.9     21.8   \n",
       "1        WSW           4.0          22.0         44.0  ...     17.2     24.3   \n",
       "2        WSW          19.0          26.0         38.0  ...     21.0     23.2   \n",
       "3          E          11.0           9.0         45.0  ...     18.1     26.5   \n",
       "4         NW           7.0          20.0         82.0  ...     17.8     29.7   \n",
       "\n",
       "   RainToday  RainTomorrow   Latitud    Longitud Regiones  day_of_week  \\\n",
       "0         No            No -36.07373  146.913544      Sur        Lunes   \n",
       "1         No            No -36.07373  146.913544      Sur       Martes   \n",
       "2         No            No -36.07373  146.913544      Sur    Miercoles   \n",
       "3         No            No -36.07373  146.913544      Sur       Jueves   \n",
       "4         No            No -36.07373  146.913544      Sur      Viernes   \n",
       "\n",
       "      week  Year  \n",
       "0    Enero  2008  \n",
       "1  Febrero  2008  \n",
       "2    Marzo  2008  \n",
       "3    Abril  2008  \n",
       "4     Mayo  2008  \n",
       "\n",
       "[5 rows x 23 columns]"
      ]
     },
     "execution_count": 211,
     "metadata": {},
     "output_type": "execute_result"
    }
   ],
   "source": [
    "df.head()"
   ]
  },
  {
   "cell_type": "markdown",
   "id": "554c9175",
   "metadata": {},
   "source": [
    "### Validación cruzada train - test\n",
    "---"
   ]
  },
  {
   "cell_type": "markdown",
   "id": "afcbed5a",
   "metadata": {},
   "source": [
    "El siguiente paso consiste en dividir el dataset en conjuntos de entrenamiento y prueba. Se separó el 80% de los datos para entrenamiento y el 20% restante para prueba."
   ]
  },
  {
   "cell_type": "code",
   "execution_count": 212,
   "id": "b4922fdb",
   "metadata": {},
   "outputs": [],
   "source": [
    "# dividir df en train y test\n",
    "train_df, test_df = train_test_split(df, test_size=0.2, random_state=42)"
   ]
  },
  {
   "cell_type": "code",
   "execution_count": 213,
   "id": "42a745a4",
   "metadata": {},
   "outputs": [
    {
     "data": {
      "text/plain": [
       "((116368, 23), (29092, 23))"
      ]
     },
     "execution_count": 213,
     "metadata": {},
     "output_type": "execute_result"
    }
   ],
   "source": [
    "train_df.shape, test_df.shape"
   ]
  },
  {
   "cell_type": "markdown",
   "id": "b389c3d0",
   "metadata": {},
   "source": [
    "### Transformación del dataset\n",
    "---"
   ]
  },
  {
   "cell_type": "markdown",
   "id": "40cd6877",
   "metadata": {},
   "source": [
    "Luego de esto, realizamos un '.describe()' sobre las variables numericas y consideramos los resultados para analizar cada variable del dataset."
   ]
  },
  {
   "cell_type": "code",
   "execution_count": 214,
   "id": "c421e25a",
   "metadata": {},
   "outputs": [
    {
     "data": {
      "text/html": [
       "<div>\n",
       "<style scoped>\n",
       "    .dataframe tbody tr th:only-of-type {\n",
       "        vertical-align: middle;\n",
       "    }\n",
       "\n",
       "    .dataframe tbody tr th {\n",
       "        vertical-align: top;\n",
       "    }\n",
       "\n",
       "    .dataframe thead th {\n",
       "        text-align: right;\n",
       "    }\n",
       "</style>\n",
       "<table border=\"1\" class=\"dataframe\">\n",
       "  <thead>\n",
       "    <tr style=\"text-align: right;\">\n",
       "      <th></th>\n",
       "      <th>MinTemp</th>\n",
       "      <th>MaxTemp</th>\n",
       "      <th>Rainfall</th>\n",
       "      <th>WindGustSpeed</th>\n",
       "      <th>WindSpeed9am</th>\n",
       "      <th>WindSpeed3pm</th>\n",
       "      <th>Humidity9am</th>\n",
       "      <th>Humidity3pm</th>\n",
       "      <th>Pressure9am</th>\n",
       "      <th>Pressure3pm</th>\n",
       "      <th>Temp9am</th>\n",
       "      <th>Temp3pm</th>\n",
       "      <th>Latitud</th>\n",
       "      <th>Longitud</th>\n",
       "      <th>Year</th>\n",
       "    </tr>\n",
       "  </thead>\n",
       "  <tbody>\n",
       "    <tr>\n",
       "      <th>count</th>\n",
       "      <td>115190.00000</td>\n",
       "      <td>115370.000000</td>\n",
       "      <td>113764.000000</td>\n",
       "      <td>108166.000000</td>\n",
       "      <td>114960.000000</td>\n",
       "      <td>113911.000000</td>\n",
       "      <td>114251.000000</td>\n",
       "      <td>112752.000000</td>\n",
       "      <td>104307.000000</td>\n",
       "      <td>104326.000000</td>\n",
       "      <td>114963.000000</td>\n",
       "      <td>113471.000000</td>\n",
       "      <td>116368.000000</td>\n",
       "      <td>116368.000000</td>\n",
       "      <td>116368.000000</td>\n",
       "    </tr>\n",
       "    <tr>\n",
       "      <th>mean</th>\n",
       "      <td>12.19708</td>\n",
       "      <td>23.219542</td>\n",
       "      <td>2.378870</td>\n",
       "      <td>40.036056</td>\n",
       "      <td>14.052157</td>\n",
       "      <td>18.663492</td>\n",
       "      <td>68.908062</td>\n",
       "      <td>51.551041</td>\n",
       "      <td>1017.639292</td>\n",
       "      <td>1015.246449</td>\n",
       "      <td>16.991923</td>\n",
       "      <td>21.684229</td>\n",
       "      <td>-32.720421</td>\n",
       "      <td>142.031745</td>\n",
       "      <td>2012.775308</td>\n",
       "    </tr>\n",
       "    <tr>\n",
       "      <th>std</th>\n",
       "      <td>6.39974</td>\n",
       "      <td>7.117535</td>\n",
       "      <td>8.537384</td>\n",
       "      <td>13.631077</td>\n",
       "      <td>8.918674</td>\n",
       "      <td>8.819087</td>\n",
       "      <td>19.015417</td>\n",
       "      <td>20.784322</td>\n",
       "      <td>7.119666</td>\n",
       "      <td>7.052257</td>\n",
       "      <td>6.488468</td>\n",
       "      <td>6.937204</td>\n",
       "      <td>6.568566</td>\n",
       "      <td>11.717489</td>\n",
       "      <td>2.540573</td>\n",
       "    </tr>\n",
       "    <tr>\n",
       "      <th>min</th>\n",
       "      <td>-8.50000</td>\n",
       "      <td>-4.800000</td>\n",
       "      <td>0.000000</td>\n",
       "      <td>6.000000</td>\n",
       "      <td>0.000000</td>\n",
       "      <td>0.000000</td>\n",
       "      <td>0.000000</td>\n",
       "      <td>0.000000</td>\n",
       "      <td>980.500000</td>\n",
       "      <td>978.200000</td>\n",
       "      <td>-7.200000</td>\n",
       "      <td>-5.400000</td>\n",
       "      <td>-42.881901</td>\n",
       "      <td>115.100107</td>\n",
       "      <td>2007.000000</td>\n",
       "    </tr>\n",
       "    <tr>\n",
       "      <th>25%</th>\n",
       "      <td>7.60000</td>\n",
       "      <td>17.900000</td>\n",
       "      <td>0.000000</td>\n",
       "      <td>31.000000</td>\n",
       "      <td>7.000000</td>\n",
       "      <td>13.000000</td>\n",
       "      <td>57.000000</td>\n",
       "      <td>37.000000</td>\n",
       "      <td>1012.900000</td>\n",
       "      <td>1010.400000</td>\n",
       "      <td>12.300000</td>\n",
       "      <td>16.600000</td>\n",
       "      <td>-37.562160</td>\n",
       "      <td>138.599533</td>\n",
       "      <td>2011.000000</td>\n",
       "    </tr>\n",
       "    <tr>\n",
       "      <th>50%</th>\n",
       "      <td>12.00000</td>\n",
       "      <td>22.600000</td>\n",
       "      <td>0.000000</td>\n",
       "      <td>39.000000</td>\n",
       "      <td>13.000000</td>\n",
       "      <td>19.000000</td>\n",
       "      <td>70.000000</td>\n",
       "      <td>52.000000</td>\n",
       "      <td>1017.600000</td>\n",
       "      <td>1015.200000</td>\n",
       "      <td>16.700000</td>\n",
       "      <td>21.100000</td>\n",
       "      <td>-34.025699</td>\n",
       "      <td>145.778061</td>\n",
       "      <td>2013.000000</td>\n",
       "    </tr>\n",
       "    <tr>\n",
       "      <th>75%</th>\n",
       "      <td>16.90000</td>\n",
       "      <td>28.200000</td>\n",
       "      <td>0.800000</td>\n",
       "      <td>48.000000</td>\n",
       "      <td>19.000000</td>\n",
       "      <td>24.000000</td>\n",
       "      <td>83.000000</td>\n",
       "      <td>66.000000</td>\n",
       "      <td>1022.400000</td>\n",
       "      <td>1020.000000</td>\n",
       "      <td>21.600000</td>\n",
       "      <td>26.400000</td>\n",
       "      <td>-31.200684</td>\n",
       "      <td>150.690674</td>\n",
       "      <td>2015.000000</td>\n",
       "    </tr>\n",
       "    <tr>\n",
       "      <th>max</th>\n",
       "      <td>31.90000</td>\n",
       "      <td>47.300000</td>\n",
       "      <td>371.000000</td>\n",
       "      <td>135.000000</td>\n",
       "      <td>130.000000</td>\n",
       "      <td>87.000000</td>\n",
       "      <td>100.000000</td>\n",
       "      <td>100.000000</td>\n",
       "      <td>1041.000000</td>\n",
       "      <td>1039.600000</td>\n",
       "      <td>40.200000</td>\n",
       "      <td>46.700000</td>\n",
       "      <td>-12.463440</td>\n",
       "      <td>167.954712</td>\n",
       "      <td>2017.000000</td>\n",
       "    </tr>\n",
       "  </tbody>\n",
       "</table>\n",
       "</div>"
      ],
      "text/plain": [
       "            MinTemp        MaxTemp       Rainfall  WindGustSpeed  \\\n",
       "count  115190.00000  115370.000000  113764.000000  108166.000000   \n",
       "mean       12.19708      23.219542       2.378870      40.036056   \n",
       "std         6.39974       7.117535       8.537384      13.631077   \n",
       "min        -8.50000      -4.800000       0.000000       6.000000   \n",
       "25%         7.60000      17.900000       0.000000      31.000000   \n",
       "50%        12.00000      22.600000       0.000000      39.000000   \n",
       "75%        16.90000      28.200000       0.800000      48.000000   \n",
       "max        31.90000      47.300000     371.000000     135.000000   \n",
       "\n",
       "        WindSpeed9am   WindSpeed3pm    Humidity9am    Humidity3pm  \\\n",
       "count  114960.000000  113911.000000  114251.000000  112752.000000   \n",
       "mean       14.052157      18.663492      68.908062      51.551041   \n",
       "std         8.918674       8.819087      19.015417      20.784322   \n",
       "min         0.000000       0.000000       0.000000       0.000000   \n",
       "25%         7.000000      13.000000      57.000000      37.000000   \n",
       "50%        13.000000      19.000000      70.000000      52.000000   \n",
       "75%        19.000000      24.000000      83.000000      66.000000   \n",
       "max       130.000000      87.000000     100.000000     100.000000   \n",
       "\n",
       "         Pressure9am    Pressure3pm        Temp9am        Temp3pm  \\\n",
       "count  104307.000000  104326.000000  114963.000000  113471.000000   \n",
       "mean     1017.639292    1015.246449      16.991923      21.684229   \n",
       "std         7.119666       7.052257       6.488468       6.937204   \n",
       "min       980.500000     978.200000      -7.200000      -5.400000   \n",
       "25%      1012.900000    1010.400000      12.300000      16.600000   \n",
       "50%      1017.600000    1015.200000      16.700000      21.100000   \n",
       "75%      1022.400000    1020.000000      21.600000      26.400000   \n",
       "max      1041.000000    1039.600000      40.200000      46.700000   \n",
       "\n",
       "             Latitud       Longitud           Year  \n",
       "count  116368.000000  116368.000000  116368.000000  \n",
       "mean      -32.720421     142.031745    2012.775308  \n",
       "std         6.568566      11.717489       2.540573  \n",
       "min       -42.881901     115.100107    2007.000000  \n",
       "25%       -37.562160     138.599533    2011.000000  \n",
       "50%       -34.025699     145.778061    2013.000000  \n",
       "75%       -31.200684     150.690674    2015.000000  \n",
       "max       -12.463440     167.954712    2017.000000  "
      ]
     },
     "execution_count": 214,
     "metadata": {},
     "output_type": "execute_result"
    }
   ],
   "source": [
    "train_df.describe()"
   ]
  },
  {
   "cell_type": "markdown",
   "id": "d93fa7d6",
   "metadata": {},
   "source": [
    "#### Analisis de las variables 'MinTemp' y 'MaxTemp'"
   ]
  },
  {
   "cell_type": "code",
   "execution_count": 215,
   "id": "78ada28c",
   "metadata": {},
   "outputs": [
    {
     "data": {
      "image/png": "[encoded data removed]",
      "text/plain": [
       "<Figure size 1200x500 with 2 Axes>"
      ]
     },
     "metadata": {},
     "output_type": "display_data"
    }
   ],
   "source": [
    "plt.figure(figsize=(12,5))\n",
    "\n",
    "plt.subplot(1, 2, 1)\n",
    "plt.title(\"Datos de la temperatura mínima\")\n",
    "sns.boxplot(train_df['MinTemp'], color=\"skyblue\")\n",
    "plt.ylabel('Temperatura')\n",
    "\n",
    "plt.subplot(1, 2, 2)\n",
    "plt.title(\"Datos de la temperatura máxima\")\n",
    "sns.boxplot(train_df['MaxTemp'], color=\"pink\")\n",
    "plt.ylabel('Temperatura')\n",
    "\n",
    "plt.show()"
   ]
  },
  {
   "cell_type": "code",
   "execution_count": 216,
   "id": "dd6d9a97",
   "metadata": {},
   "outputs": [
    {
     "name": "stdout",
     "output_type": "stream",
     "text": [
      "Mediana de MinTemp: 12.0\n"
     ]
    }
   ],
   "source": [
    "median_min= train_df['MinTemp'].median()\n",
    "print(f\"Mediana de MinTemp: {round(median_min,2)}\")"
   ]
  },
  {
   "cell_type": "code",
   "execution_count": 217,
   "id": "d74dc8e2",
   "metadata": {},
   "outputs": [
    {
     "name": "stdout",
     "output_type": "stream",
     "text": [
      "Total de casos imputados con la mediana en train: 1178 \n",
      "Total de casos imputados con la mediana en test: 307 \n"
     ]
    }
   ],
   "source": [
    "print(f\"Total de casos imputados con la mediana en train: { train_df['MinTemp'].isnull().sum()} \")\n",
    "print(f\"Total de casos imputados con la mediana en test: {test_df['MinTemp'].isnull().sum()} \")\n",
    "\n",
    "train_df['MinTemp'] = train_df['MinTemp'].fillna(median_min)\n",
    "test_df['MinTemp'] = test_df['MinTemp'].fillna(median_min)"
   ]
  },
  {
   "cell_type": "code",
   "execution_count": 220,
   "id": "8dad0af0",
   "metadata": {},
   "outputs": [
    {
     "name": "stdout",
     "output_type": "stream",
     "text": [
      "Mediana de MaxTemp: 22.6\n"
     ]
    }
   ],
   "source": [
    "median_max= train_df['MaxTemp'].median()\n",
    "print(f\"Mediana de MaxTemp: {round(median_max,2)}\")"
   ]
  },
  {
   "cell_type": "code",
   "execution_count": 221,
   "id": "27b77310",
   "metadata": {},
   "outputs": [
    {
     "name": "stdout",
     "output_type": "stream",
     "text": [
      "Total de casos imputados con la mediana en train: 998 \n",
      "Total de casos imputados con la mediana en test: 263 \n"
     ]
    }
   ],
   "source": [
    "print(f\"Total de casos imputados con la mediana en train: { train_df['MaxTemp'].isnull().sum()} \")\n",
    "print(f\"Total de casos imputados con la mediana en test: {test_df['MaxTemp'].isnull().sum()} \")\n",
    "\n",
    "train_df['MaxTemp'] = train_df['MaxTemp'].fillna(median_min)\n",
    "test_df['MaxTemp'] = test_df['MaxTemp'].fillna(median_min)"
   ]
  },
  {
   "cell_type": "code",
   "execution_count": 224,
   "id": "29059470",
   "metadata": {},
   "outputs": [
    {
     "data": {
      "text/plain": [
       "MinTemp    0\n",
       "MaxTemp    0\n",
       "dtype: int64"
      ]
     },
     "execution_count": 224,
     "metadata": {},
     "output_type": "execute_result"
    }
   ],
   "source": [
    "train_df[['MinTemp', 'MaxTemp']].isnull().sum()"
   ]
  }
 ],
 "metadata": {
  "kernelspec": {
   "display_name": "Python 3",
   "language": "python",
   "name": "python3"
  },
  "language_info": {
   "codemirror_mode": {
    "name": "ipython",
    "version": 3
   },
   "file_extension": ".py",
   "mimetype": "text/x-python",
   "name": "python",
   "nbconvert_exporter": "python",
   "pygments_lexer": "ipython3",
   "version": "3.12.3"
  }
 },
 "nbformat": 4,
 "nbformat_minor": 5
}
